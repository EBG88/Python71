{
 "cells": [
  {
   "cell_type": "markdown",
   "id": "2354c29b-99ee-488c-ba38-05914fb2638d",
   "metadata": {},
   "source": [
    "Di project ini saya ingin membuat model Machine Learning tipe Classification dengan data dari https://www.kaggle.com/competitions/walmart-recruiting-trip-type-classification/data?select=train.csv.zip tentang kategori type perjalanan belanja . Dataset kita terdiri dari dua file terpisah, train.csv dan test.csv. Kita akan gunakan train.csv saja.\n",
    "\n",
    "model machine learning kita bertujuan untuk melakukan pengkategorian jenis perjalanan belanja berdasarkan barang yang dibeli pelanggan."
   ]
  },
  {
   "cell_type": "code",
   "execution_count": 80,
   "id": "13091758-77c3-4d75-9e62-e281c6daa06e",
   "metadata": {},
   "outputs": [],
   "source": [
    "# import package yang diperlukan\n",
    "import numpy as np\n",
    "import pandas as pd\n",
    "\n",
    "%matplotlib inline\n",
    "import matplotlib as mpl\n",
    "import matplotlib.pyplot as plt\n",
    "mpl.style.use(['ggplot'])\n",
    "\n",
    "import seaborn as sns\n",
    "sns.set_style('whitegrid')\n",
    "\n",
    "# import package2 dari sklearn disini\n",
    "from sklearn.linear_model import LogisticRegression\n",
    "from sklearn.neighbors import KNeighborsClassifier\n",
    "\n",
    "from sklearn.datasets import load_digits, load_wine\n",
    "\n",
    "from sklearn.model_selection import train_test_split\n",
    "from sklearn.preprocessing import StandardScaler, LabelEncoder\n",
    "from sklearn.metrics import classification_report, confusion_matrix\n",
    "from sklearn.model_selection import RandomizedSearchCV\n",
    "from sklearn.ensemble import RandomForestClassifier\n"
   ]
  },
  {
   "cell_type": "code",
   "execution_count": 5,
   "id": "83d9472e-ee3a-44ce-b22e-9230d831f5e7",
   "metadata": {},
   "outputs": [],
   "source": [
    "# explore data\n",
    "df_trip_train = pd.read_csv(\"E:\\Belajar_Python/train.csv\")"
   ]
  },
  {
   "cell_type": "code",
   "execution_count": 6,
   "id": "ff0420f5-1c27-4471-a07c-1e3532c99ca5",
   "metadata": {},
   "outputs": [
    {
     "name": "stdout",
     "output_type": "stream",
     "text": [
      "<class 'pandas.core.frame.DataFrame'>\n",
      "RangeIndex: 647054 entries, 0 to 647053\n",
      "Data columns (total 7 columns):\n",
      " #   Column                 Non-Null Count   Dtype  \n",
      "---  ------                 --------------   -----  \n",
      " 0   TripType               647054 non-null  int64  \n",
      " 1   VisitNumber            647054 non-null  int64  \n",
      " 2   Weekday                647054 non-null  object \n",
      " 3   Upc                    642925 non-null  float64\n",
      " 4   ScanCount              647054 non-null  int64  \n",
      " 5   DepartmentDescription  645693 non-null  object \n",
      " 6   FinelineNumber         642925 non-null  float64\n",
      "dtypes: float64(2), int64(3), object(2)\n",
      "memory usage: 34.6+ MB\n"
     ]
    }
   ],
   "source": [
    "df_trip_train.info()"
   ]
  },
  {
   "cell_type": "code",
   "execution_count": 7,
   "id": "bec1de65-fdbd-49a6-8f24-a0bd1ed140d8",
   "metadata": {},
   "outputs": [
    {
     "data": {
      "text/plain": [
       "TripType                    0\n",
       "VisitNumber                 0\n",
       "Weekday                     0\n",
       "Upc                      4129\n",
       "ScanCount                   0\n",
       "DepartmentDescription    1361\n",
       "FinelineNumber           4129\n",
       "dtype: int64"
      ]
     },
     "execution_count": 7,
     "metadata": {},
     "output_type": "execute_result"
    }
   ],
   "source": [
    "#cek data yang null\n",
    "df_trip_train.isnull().sum()\n"
   ]
  },
  {
   "cell_type": "markdown",
   "id": "8e1c9cc6-26aa-4963-b9ed-404b66ed7462",
   "metadata": {},
   "source": [
    "terdapat 3 filed yang memiliki missing value yaitu : Upc , DepartmentDescription , dan FinelineNumber\n",
    "untuk kolom2 yang ada sedikit missing value nya, kita bisa pilih mau drop baris yang ada missing value nya atau kita fill missing value tersebut mungkin dengan mean, median, atau mode data kolom tersebut.\n",
    "\n",
    "untuk setiap kolom yang ada missing value nya, aku mau cek kolom tersebut punya data seperti apa"
   ]
  },
  {
   "cell_type": "code",
   "execution_count": 8,
   "id": "e38254be-f8d5-48f6-a30d-d68b4e77d4dd",
   "metadata": {},
   "outputs": [
    {
     "data": {
      "text/html": [
       "<div>\n",
       "<style scoped>\n",
       "    .dataframe tbody tr th:only-of-type {\n",
       "        vertical-align: middle;\n",
       "    }\n",
       "\n",
       "    .dataframe tbody tr th {\n",
       "        vertical-align: top;\n",
       "    }\n",
       "\n",
       "    .dataframe thead th {\n",
       "        text-align: right;\n",
       "    }\n",
       "</style>\n",
       "<table border=\"1\" class=\"dataframe\">\n",
       "  <thead>\n",
       "    <tr style=\"text-align: right;\">\n",
       "      <th></th>\n",
       "      <th>TripType</th>\n",
       "      <th>VisitNumber</th>\n",
       "      <th>Weekday</th>\n",
       "      <th>Upc</th>\n",
       "      <th>ScanCount</th>\n",
       "      <th>DepartmentDescription</th>\n",
       "      <th>FinelineNumber</th>\n",
       "    </tr>\n",
       "  </thead>\n",
       "  <tbody>\n",
       "    <tr>\n",
       "      <th>0</th>\n",
       "      <td>999</td>\n",
       "      <td>5</td>\n",
       "      <td>Friday</td>\n",
       "      <td>6.811315e+10</td>\n",
       "      <td>-1</td>\n",
       "      <td>FINANCIAL SERVICES</td>\n",
       "      <td>1000.0</td>\n",
       "    </tr>\n",
       "    <tr>\n",
       "      <th>1</th>\n",
       "      <td>30</td>\n",
       "      <td>7</td>\n",
       "      <td>Friday</td>\n",
       "      <td>6.053882e+10</td>\n",
       "      <td>1</td>\n",
       "      <td>SHOES</td>\n",
       "      <td>8931.0</td>\n",
       "    </tr>\n",
       "    <tr>\n",
       "      <th>2</th>\n",
       "      <td>30</td>\n",
       "      <td>7</td>\n",
       "      <td>Friday</td>\n",
       "      <td>7.410811e+09</td>\n",
       "      <td>1</td>\n",
       "      <td>PERSONAL CARE</td>\n",
       "      <td>4504.0</td>\n",
       "    </tr>\n",
       "    <tr>\n",
       "      <th>3</th>\n",
       "      <td>26</td>\n",
       "      <td>8</td>\n",
       "      <td>Friday</td>\n",
       "      <td>2.238404e+09</td>\n",
       "      <td>2</td>\n",
       "      <td>PAINT AND ACCESSORIES</td>\n",
       "      <td>3565.0</td>\n",
       "    </tr>\n",
       "    <tr>\n",
       "      <th>4</th>\n",
       "      <td>26</td>\n",
       "      <td>8</td>\n",
       "      <td>Friday</td>\n",
       "      <td>2.006614e+09</td>\n",
       "      <td>2</td>\n",
       "      <td>PAINT AND ACCESSORIES</td>\n",
       "      <td>1017.0</td>\n",
       "    </tr>\n",
       "    <tr>\n",
       "      <th>...</th>\n",
       "      <td>...</td>\n",
       "      <td>...</td>\n",
       "      <td>...</td>\n",
       "      <td>...</td>\n",
       "      <td>...</td>\n",
       "      <td>...</td>\n",
       "      <td>...</td>\n",
       "    </tr>\n",
       "    <tr>\n",
       "      <th>647049</th>\n",
       "      <td>39</td>\n",
       "      <td>191346</td>\n",
       "      <td>Sunday</td>\n",
       "      <td>3.239000e+10</td>\n",
       "      <td>1</td>\n",
       "      <td>PHARMACY OTC</td>\n",
       "      <td>1118.0</td>\n",
       "    </tr>\n",
       "    <tr>\n",
       "      <th>647050</th>\n",
       "      <td>39</td>\n",
       "      <td>191346</td>\n",
       "      <td>Sunday</td>\n",
       "      <td>7.874205e+09</td>\n",
       "      <td>1</td>\n",
       "      <td>FROZEN FOODS</td>\n",
       "      <td>1752.0</td>\n",
       "    </tr>\n",
       "    <tr>\n",
       "      <th>647051</th>\n",
       "      <td>39</td>\n",
       "      <td>191346</td>\n",
       "      <td>Sunday</td>\n",
       "      <td>4.072000e+03</td>\n",
       "      <td>1</td>\n",
       "      <td>PRODUCE</td>\n",
       "      <td>4170.0</td>\n",
       "    </tr>\n",
       "    <tr>\n",
       "      <th>647052</th>\n",
       "      <td>8</td>\n",
       "      <td>191347</td>\n",
       "      <td>Sunday</td>\n",
       "      <td>4.190008e+09</td>\n",
       "      <td>1</td>\n",
       "      <td>DAIRY</td>\n",
       "      <td>1512.0</td>\n",
       "    </tr>\n",
       "    <tr>\n",
       "      <th>647053</th>\n",
       "      <td>8</td>\n",
       "      <td>191347</td>\n",
       "      <td>Sunday</td>\n",
       "      <td>3.800060e+09</td>\n",
       "      <td>1</td>\n",
       "      <td>GROCERY DRY GOODS</td>\n",
       "      <td>3600.0</td>\n",
       "    </tr>\n",
       "  </tbody>\n",
       "</table>\n",
       "<p>647054 rows × 7 columns</p>\n",
       "</div>"
      ],
      "text/plain": [
       "        TripType  VisitNumber Weekday           Upc  ScanCount  \\\n",
       "0            999            5  Friday  6.811315e+10         -1   \n",
       "1             30            7  Friday  6.053882e+10          1   \n",
       "2             30            7  Friday  7.410811e+09          1   \n",
       "3             26            8  Friday  2.238404e+09          2   \n",
       "4             26            8  Friday  2.006614e+09          2   \n",
       "...          ...          ...     ...           ...        ...   \n",
       "647049        39       191346  Sunday  3.239000e+10          1   \n",
       "647050        39       191346  Sunday  7.874205e+09          1   \n",
       "647051        39       191346  Sunday  4.072000e+03          1   \n",
       "647052         8       191347  Sunday  4.190008e+09          1   \n",
       "647053         8       191347  Sunday  3.800060e+09          1   \n",
       "\n",
       "        DepartmentDescription  FinelineNumber  \n",
       "0          FINANCIAL SERVICES          1000.0  \n",
       "1                       SHOES          8931.0  \n",
       "2               PERSONAL CARE          4504.0  \n",
       "3       PAINT AND ACCESSORIES          3565.0  \n",
       "4       PAINT AND ACCESSORIES          1017.0  \n",
       "...                       ...             ...  \n",
       "647049           PHARMACY OTC          1118.0  \n",
       "647050           FROZEN FOODS          1752.0  \n",
       "647051                PRODUCE          4170.0  \n",
       "647052                  DAIRY          1512.0  \n",
       "647053      GROCERY DRY GOODS          3600.0  \n",
       "\n",
       "[647054 rows x 7 columns]"
      ]
     },
     "execution_count": 8,
     "metadata": {},
     "output_type": "execute_result"
    }
   ],
   "source": [
    "df_trip_train"
   ]
  },
  {
   "cell_type": "code",
   "execution_count": 9,
   "id": "f63a88e8-4e21-4947-8bfc-470907d5d43b",
   "metadata": {},
   "outputs": [
    {
     "name": "stdout",
     "output_type": "stream",
     "text": [
      "Upc\n",
      "Unique values: 97714\n",
      "4.011000e+03    7657\n",
      "6.053886e+10    2501\n",
      "7.874235e+09    2067\n",
      "7.874235e+09    1883\n",
      "4.046000e+03    1652\n",
      "                ... \n",
      "8.022596e+09       1\n",
      "7.678985e+10       1\n",
      "3.378922e+09       1\n",
      "5.200024e+09       1\n",
      "8.430051e+10       1\n",
      "Name: Upc, Length: 97714, dtype: int64\n",
      "\n",
      "DepartmentDescription\n",
      "Unique values: 68\n",
      "GROCERY DRY GOODS         70402\n",
      "DSD GROCERY               68332\n",
      "PRODUCE                   51115\n",
      "DAIRY                     43820\n",
      "PERSONAL CARE             41969\n",
      "                          ...  \n",
      "LARGE HOUSEHOLD GOODS        77\n",
      "CONCEPT STORES               35\n",
      "OTHER DEPARTMENTS            29\n",
      "SEASONAL                     29\n",
      "HEALTH AND BEAUTY AIDS        2\n",
      "Name: DepartmentDescription, Length: 68, dtype: int64\n",
      "\n",
      "FinelineNumber\n",
      "Unique values: 5195\n",
      "5501.0    8244\n",
      "1508.0    5121\n",
      "135.0     4538\n",
      "808.0     4401\n",
      "0.0       3837\n",
      "          ... \n",
      "7838.0       1\n",
      "1765.0       1\n",
      "5518.0       1\n",
      "3517.0       1\n",
      "7320.0       1\n",
      "Name: FinelineNumber, Length: 5195, dtype: int64\n",
      "\n"
     ]
    }
   ],
   "source": [
    "for col in df_trip_train.columns[df_trip_train.isnull().any()]:\n",
    "    print(col)\n",
    "    print(\"Unique values:\", df_trip_train[col].nunique())\n",
    "    print(df_trip_train[col].value_counts())\n",
    "    print()"
   ]
  },
  {
   "cell_type": "markdown",
   "id": "19c2f86f-13f2-4c1e-8cc3-36f9274c5e1c",
   "metadata": {},
   "source": [
    "kita akan fill missing values dengan:\n",
    "- Upc ==> Mode\n",
    "- DepartmenDesrciption ==> Mode\n",
    "- FinelineNumber ==> Median"
   ]
  },
  {
   "cell_type": "code",
   "execution_count": 10,
   "id": "c99da501-87f7-4ac6-9f8d-250f344eeb79",
   "metadata": {},
   "outputs": [],
   "source": [
    "# isi missing value kolom kolom ini dengan mode nya\n",
    "col_list = ['Upc','DepartmentDescription']\n",
    "for col in col_list:\n",
    "    mode = df_trip_train[col].mode()[0]\n",
    "    df_trip_train[col] = df_trip_train[col].fillna(value=mode)\n",
    "  "
   ]
  },
  {
   "cell_type": "code",
   "execution_count": 11,
   "id": "3c23a1f4-b61b-4f8b-be1b-51b4053f0618",
   "metadata": {},
   "outputs": [],
   "source": [
    "median = df_trip_train['FinelineNumber'].median()\n",
    "df_trip_train['FinelineNumber'] = df_trip_train['FinelineNumber'].fillna(value = median)"
   ]
  },
  {
   "cell_type": "code",
   "execution_count": 12,
   "id": "20e5212f-870f-4a01-9b79-15f86e2598cc",
   "metadata": {},
   "outputs": [
    {
     "data": {
      "text/plain": [
       "0"
      ]
     },
     "execution_count": 12,
     "metadata": {},
     "output_type": "execute_result"
    }
   ],
   "source": [
    "df_trip_train.isnull().sum().sum()"
   ]
  },
  {
   "cell_type": "markdown",
   "id": "14d75996-6e71-48ae-bf98-7251e8d945d1",
   "metadata": {},
   "source": [
    "kita sudah merapikan datanya, tidak ada missing value lagi. berikutnya cek invalid values"
   ]
  },
  {
   "cell_type": "code",
   "execution_count": 13,
   "id": "11a19f06-30f2-48ce-8462-a14f9143674e",
   "metadata": {},
   "outputs": [
    {
     "data": {
      "text/html": [
       "<div>\n",
       "<style scoped>\n",
       "    .dataframe tbody tr th:only-of-type {\n",
       "        vertical-align: middle;\n",
       "    }\n",
       "\n",
       "    .dataframe tbody tr th {\n",
       "        vertical-align: top;\n",
       "    }\n",
       "\n",
       "    .dataframe thead th {\n",
       "        text-align: right;\n",
       "    }\n",
       "</style>\n",
       "<table border=\"1\" class=\"dataframe\">\n",
       "  <thead>\n",
       "    <tr style=\"text-align: right;\">\n",
       "      <th></th>\n",
       "      <th>TripType</th>\n",
       "      <th>VisitNumber</th>\n",
       "      <th>Upc</th>\n",
       "      <th>ScanCount</th>\n",
       "      <th>FinelineNumber</th>\n",
       "    </tr>\n",
       "  </thead>\n",
       "  <tbody>\n",
       "    <tr>\n",
       "      <th>count</th>\n",
       "      <td>647054.000000</td>\n",
       "      <td>647054.000000</td>\n",
       "      <td>6.470540e+05</td>\n",
       "      <td>647054.000000</td>\n",
       "      <td>647054.000000</td>\n",
       "    </tr>\n",
       "    <tr>\n",
       "      <th>mean</th>\n",
       "      <td>58.584511</td>\n",
       "      <td>96167.640078</td>\n",
       "      <td>3.041167e+10</td>\n",
       "      <td>1.108878</td>\n",
       "      <td>3724.492342</td>\n",
       "    </tr>\n",
       "    <tr>\n",
       "      <th>std</th>\n",
       "      <td>157.635533</td>\n",
       "      <td>55545.485154</td>\n",
       "      <td>9.094255e+10</td>\n",
       "      <td>0.700776</td>\n",
       "      <td>2772.239672</td>\n",
       "    </tr>\n",
       "    <tr>\n",
       "      <th>min</th>\n",
       "      <td>3.000000</td>\n",
       "      <td>5.000000</td>\n",
       "      <td>8.340000e+02</td>\n",
       "      <td>-12.000000</td>\n",
       "      <td>0.000000</td>\n",
       "    </tr>\n",
       "    <tr>\n",
       "      <th>25%</th>\n",
       "      <td>27.000000</td>\n",
       "      <td>49268.000000</td>\n",
       "      <td>3.400000e+09</td>\n",
       "      <td>1.000000</td>\n",
       "      <td>1404.000000</td>\n",
       "    </tr>\n",
       "    <tr>\n",
       "      <th>50%</th>\n",
       "      <td>39.000000</td>\n",
       "      <td>97074.000000</td>\n",
       "      <td>7.047029e+09</td>\n",
       "      <td>1.000000</td>\n",
       "      <td>3352.000000</td>\n",
       "    </tr>\n",
       "    <tr>\n",
       "      <th>75%</th>\n",
       "      <td>40.000000</td>\n",
       "      <td>144316.000000</td>\n",
       "      <td>3.004167e+10</td>\n",
       "      <td>1.000000</td>\n",
       "      <td>5501.000000</td>\n",
       "    </tr>\n",
       "    <tr>\n",
       "      <th>max</th>\n",
       "      <td>999.000000</td>\n",
       "      <td>191347.000000</td>\n",
       "      <td>9.789707e+11</td>\n",
       "      <td>71.000000</td>\n",
       "      <td>9998.000000</td>\n",
       "    </tr>\n",
       "  </tbody>\n",
       "</table>\n",
       "</div>"
      ],
      "text/plain": [
       "            TripType    VisitNumber           Upc      ScanCount  \\\n",
       "count  647054.000000  647054.000000  6.470540e+05  647054.000000   \n",
       "mean       58.584511   96167.640078  3.041167e+10       1.108878   \n",
       "std       157.635533   55545.485154  9.094255e+10       0.700776   \n",
       "min         3.000000       5.000000  8.340000e+02     -12.000000   \n",
       "25%        27.000000   49268.000000  3.400000e+09       1.000000   \n",
       "50%        39.000000   97074.000000  7.047029e+09       1.000000   \n",
       "75%        40.000000  144316.000000  3.004167e+10       1.000000   \n",
       "max       999.000000  191347.000000  9.789707e+11      71.000000   \n",
       "\n",
       "       FinelineNumber  \n",
       "count   647054.000000  \n",
       "mean      3724.492342  \n",
       "std       2772.239672  \n",
       "min          0.000000  \n",
       "25%       1404.000000  \n",
       "50%       3352.000000  \n",
       "75%       5501.000000  \n",
       "max       9998.000000  "
      ]
     },
     "execution_count": 13,
     "metadata": {},
     "output_type": "execute_result"
    }
   ],
   "source": [
    "df_trip_train.describe()"
   ]
  },
  {
   "cell_type": "markdown",
   "id": "7ef9da21-060c-4815-83e3-c4b21970552c",
   "metadata": {},
   "source": [
    "#Explorasi Data Analysis\n",
    "\n"
   ]
  },
  {
   "cell_type": "markdown",
   "id": "18556989-9f05-4931-87f1-21d498a7c313",
   "metadata": {},
   "source": [
    "#Train Type"
   ]
  },
  {
   "cell_type": "code",
   "execution_count": 16,
   "id": "52af8948-f11a-416b-aeda-69357a9c081a",
   "metadata": {},
   "outputs": [
    {
     "data": {
      "text/plain": [
       "38"
      ]
     },
     "execution_count": 16,
     "metadata": {},
     "output_type": "execute_result"
    }
   ],
   "source": [
    "df_trip_train.TripType.nunique()"
   ]
  },
  {
   "cell_type": "code",
   "execution_count": 43,
   "id": "cf019e8c-b588-4caf-bafc-882330cf4216",
   "metadata": {},
   "outputs": [
    {
     "name": "stderr",
     "output_type": "stream",
     "text": [
      "C:\\Users\\LPDP\\anaconda3\\lib\\site-packages\\seaborn\\_decorators.py:36: FutureWarning: Pass the following variable as a keyword arg: x. From version 0.12, the only valid positional argument will be `data`, and passing other arguments without an explicit keyword will result in an error or misinterpretation.\n",
      "  warnings.warn(\n"
     ]
    },
    {
     "data": {
      "text/plain": [
       "<AxesSubplot:xlabel='TripType', ylabel='count'>"
      ]
     },
     "execution_count": 43,
     "metadata": {},
     "output_type": "execute_result"
    },
    {
     "data": {
      "image/png": "[encoded data removed]",
      "text/plain": [
       "<Figure size 864x432 with 1 Axes>"
      ]
     },
     "metadata": {},
     "output_type": "display_data"
    }
   ],
   "source": [
    "plt.figure(figsize=(12,6))\n",
    "sns.countplot(df_trip_train.TripType)"
   ]
  },
  {
   "cell_type": "markdown",
   "id": "ce93e09f-d30b-4627-abf3-5fd6aa64f371",
   "metadata": {},
   "source": [
    "#Visit Number"
   ]
  },
  {
   "cell_type": "markdown",
   "id": "e7d6f6ca-43ae-469f-b664-13d10205f878",
   "metadata": {},
   "source": [
    "#VisitNumber"
   ]
  },
  {
   "cell_type": "code",
   "execution_count": 20,
   "id": "ca7e49b1-5787-4a9b-b22b-802d668ce4df",
   "metadata": {},
   "outputs": [
    {
     "data": {
      "text/plain": [
       "95674"
      ]
     },
     "execution_count": 20,
     "metadata": {},
     "output_type": "execute_result"
    }
   ],
   "source": [
    "df_trip_train.VisitNumber.nunique()"
   ]
  },
  {
   "cell_type": "code",
   "execution_count": 21,
   "id": "84f0f038-0ba8-4c0a-9da0-be9c984681ab",
   "metadata": {},
   "outputs": [
    {
     "name": "stderr",
     "output_type": "stream",
     "text": [
      "C:\\Users\\LPDP\\anaconda3\\lib\\site-packages\\seaborn\\distributions.py:2557: FutureWarning: `distplot` is a deprecated function and will be removed in a future version. Please adapt your code to use either `displot` (a figure-level function with similar flexibility) or `histplot` (an axes-level function for histograms).\n",
      "  warnings.warn(msg, FutureWarning)\n"
     ]
    },
    {
     "data": {
      "text/plain": [
       "<AxesSubplot:xlabel='VisitNumber', ylabel='Density'>"
      ]
     },
     "execution_count": 21,
     "metadata": {},
     "output_type": "execute_result"
    },
    {
     "data": {
      "image/png": "[encoded data removed]",
      "text/plain": [
       "<Figure size 864x432 with 1 Axes>"
      ]
     },
     "metadata": {},
     "output_type": "display_data"
    }
   ],
   "source": [
    "plt.figure(figsize=(12,6))\n",
    "sns.distplot(df_trip_train.VisitNumber)"
   ]
  },
  {
   "cell_type": "markdown",
   "id": "529b2d4e-0363-4ca7-9f82-af1523ae50d9",
   "metadata": {},
   "source": [
    "terlihat bahwa visitnumber terdistribusi seragam (uniform distribution)"
   ]
  },
  {
   "cell_type": "markdown",
   "id": "8620a2c3-23cb-48ad-9636-c28d346af652",
   "metadata": {},
   "source": [
    "#Weekday Distribution"
   ]
  },
  {
   "cell_type": "code",
   "execution_count": 23,
   "id": "2dee788c-4ece-41ed-a2ae-d12bc1c6cefb",
   "metadata": {},
   "outputs": [
    {
     "name": "stderr",
     "output_type": "stream",
     "text": [
      "C:\\Users\\LPDP\\anaconda3\\lib\\site-packages\\seaborn\\_decorators.py:36: FutureWarning: Pass the following variable as a keyword arg: x. From version 0.12, the only valid positional argument will be `data`, and passing other arguments without an explicit keyword will result in an error or misinterpretation.\n",
      "  warnings.warn(\n"
     ]
    },
    {
     "data": {
      "text/plain": [
       "<AxesSubplot:xlabel='Weekday', ylabel='count'>"
      ]
     },
     "execution_count": 23,
     "metadata": {},
     "output_type": "execute_result"
    },
    {
     "data": {
      "image/png": "[encoded data removed]",
      "text/plain": [
       "<Figure size 864x432 with 1 Axes>"
      ]
     },
     "metadata": {},
     "output_type": "display_data"
    }
   ],
   "source": [
    "plt.figure(figsize=(12,6))\n",
    "sns.countplot(df_trip_train.Weekday)"
   ]
  },
  {
   "cell_type": "code",
   "execution_count": 24,
   "id": "6c0e7ec6-2412-4718-9522-822e7ca5fe89",
   "metadata": {},
   "outputs": [
    {
     "data": {
      "text/plain": [
       "Weekday\n",
       "Friday        96247\n",
       "Monday        83130\n",
       "Saturday     122096\n",
       "Sunday       133975\n",
       "Thursday      67962\n",
       "Tuesday       72529\n",
       "Wednesday     71115\n",
       "Name: Weekday, dtype: int64"
      ]
     },
     "execution_count": 24,
     "metadata": {},
     "output_type": "execute_result"
    }
   ],
   "source": [
    "df_trip_train.groupby('Weekday')['Weekday'].count()"
   ]
  },
  {
   "cell_type": "code",
   "execution_count": 25,
   "id": "f4c2bd83-285a-486a-977d-d9590bce7348",
   "metadata": {},
   "outputs": [],
   "source": [
    "def weekday_to_num(x):\n",
    "  if x=='Monday':\n",
    "    return 0\n",
    "  elif x=='Tuesday':\n",
    "    return 1\n",
    "  elif x=='Wednesday':\n",
    "    return 2\n",
    "  elif x=='Thursday':\n",
    "    return 3\n",
    "  elif x=='Friday':\n",
    "    return 4\n",
    "  elif x=='Saturday':\n",
    "    return 5\n",
    "  elif x=='Sunday':\n",
    "    return 6 "
   ]
  },
  {
   "cell_type": "code",
   "execution_count": 26,
   "id": "dc4742e8-a5c3-4658-b87f-25550fdfc123",
   "metadata": {},
   "outputs": [],
   "source": [
    "df_trip_train['weekday_num']=df_trip_train.Weekday.apply(weekday_to_num)"
   ]
  },
  {
   "cell_type": "code",
   "execution_count": 27,
   "id": "0e491a71-a723-42c1-9305-420fe58904f8",
   "metadata": {},
   "outputs": [
    {
     "name": "stderr",
     "output_type": "stream",
     "text": [
      "C:\\Users\\LPDP\\anaconda3\\lib\\site-packages\\seaborn\\distributions.py:2557: FutureWarning: `distplot` is a deprecated function and will be removed in a future version. Please adapt your code to use either `displot` (a figure-level function with similar flexibility) or `histplot` (an axes-level function for histograms).\n",
      "  warnings.warn(msg, FutureWarning)\n"
     ]
    },
    {
     "data": {
      "image/png": "[encoded data removed]",
      "text/plain": [
       "<Figure size 720x432 with 1 Axes>"
      ]
     },
     "metadata": {},
     "output_type": "display_data"
    }
   ],
   "source": [
    "fig,axs=plt.subplots(figsize=(10,6))\n",
    "sns.distplot(df_trip_train['weekday_num'],ax=axs)\n",
    "ticks=list(range(0,7))\n",
    "axs.set_xticks(ticks)\n",
    "x_tick_label=['Monday','Tuesday','Wednesday','Thursday','Friday','Saturday','Sunday']\n",
    "axs.set_xticklabels(x_tick_label)\n",
    "plt.show()"
   ]
  },
  {
   "cell_type": "markdown",
   "id": "1c3f7166-499a-4739-8aff-7b20c1c869bf",
   "metadata": {},
   "source": [
    " ada lebih banyak kemungkinan kunjungan untuk akhir pekan. Kamis adalah hari dengan jumlah kunjungan terendah"
   ]
  },
  {
   "cell_type": "markdown",
   "id": "b85d0b9c-0007-4d7b-b239-f144a560bf76",
   "metadata": {},
   "source": [
    "#DepartementDescription"
   ]
  },
  {
   "cell_type": "code",
   "execution_count": 29,
   "id": "69d18903-98c9-4c59-bd96-b6d1258f33de",
   "metadata": {},
   "outputs": [
    {
     "data": {
      "text/plain": [
       "GROCERY DRY GOODS         71763\n",
       "DSD GROCERY               68332\n",
       "PRODUCE                   51115\n",
       "DAIRY                     43820\n",
       "PERSONAL CARE             41969\n",
       "                          ...  \n",
       "LARGE HOUSEHOLD GOODS        77\n",
       "CONCEPT STORES               35\n",
       "OTHER DEPARTMENTS            29\n",
       "SEASONAL                     29\n",
       "HEALTH AND BEAUTY AIDS        2\n",
       "Name: DepartmentDescription, Length: 68, dtype: int64"
      ]
     },
     "execution_count": 29,
     "metadata": {},
     "output_type": "execute_result"
    }
   ],
   "source": [
    "df_trip_train.DepartmentDescription.value_counts()"
   ]
  },
  {
   "cell_type": "code",
   "execution_count": 30,
   "id": "9108d5e8-2086-45d8-94ad-e0586b849d0b",
   "metadata": {},
   "outputs": [
    {
     "data": {
      "image/png": "[encoded data removed]",
      "text/plain": [
       "<Figure size 864x576 with 1 Axes>"
      ]
     },
     "metadata": {},
     "output_type": "display_data"
    }
   ],
   "source": [
    "plt.figure(figsize=(12,8))\n",
    "sns.countplot(x='DepartmentDescription',data=df_trip_train)\n",
    "plt.xticks(rotation=90)\n",
    "plt.show()"
   ]
  },
  {
   "cell_type": "code",
   "execution_count": 31,
   "id": "6d8fe193-51ab-4428-9cd8-c5e213b06ad5",
   "metadata": {},
   "outputs": [
    {
     "data": {
      "text/plain": [
       "DepartmentDescription\n",
       "1-HR PHOTO                394\n",
       "ACCESSORIES              1318\n",
       "AUTOMOTIVE               5414\n",
       "BAKERY                   7168\n",
       "BATH AND SHOWER          4582\n",
       "                         ... \n",
       "SLEEPWEAR/FOUNDATIONS    2376\n",
       "SPORTING GOODS           5087\n",
       "SWIMWEAR/OUTERWEAR        860\n",
       "TOYS                     6107\n",
       "WIRELESS                 1898\n",
       "Name: DepartmentDescription, Length: 68, dtype: int64"
      ]
     },
     "execution_count": 31,
     "metadata": {},
     "output_type": "execute_result"
    }
   ],
   "source": [
    "df_trip_train.groupby('DepartmentDescription')['DepartmentDescription'].count()"
   ]
  },
  {
   "cell_type": "markdown",
   "id": "0305c978-43e8-46a6-a853-afa2d0ed0ad7",
   "metadata": {},
   "source": [
    "distribusi datanya terlihat miring ke kiri, PERSONAL CARE, DSD GROCERIES, DAIRY, PRODUCE, GROCERY DRY GOODS kategori ini menjadi kategori yang dominan dalam sebaran data"
   ]
  },
  {
   "cell_type": "markdown",
   "id": "8524921e-882b-4eff-a0af-a825b73cbc46",
   "metadata": {},
   "source": [
    "#FinelineNumber"
   ]
  },
  {
   "cell_type": "code",
   "execution_count": 39,
   "id": "6ddbee96-0bac-446e-b919-15dd858f44ca",
   "metadata": {},
   "outputs": [
    {
     "name": "stderr",
     "output_type": "stream",
     "text": [
      "C:\\Users\\LPDP\\anaconda3\\lib\\site-packages\\seaborn\\distributions.py:2557: FutureWarning: `distplot` is a deprecated function and will be removed in a future version. Please adapt your code to use either `displot` (a figure-level function with similar flexibility) or `kdeplot` (an axes-level function for kernel density plots).\n",
      "  warnings.warn(msg, FutureWarning)\n"
     ]
    },
    {
     "data": {
      "text/plain": [
       "<AxesSubplot:xlabel='FinelineNumber', ylabel='Density'>"
      ]
     },
     "execution_count": 39,
     "metadata": {},
     "output_type": "execute_result"
    },
    {
     "data": {
      "image/png": "[encoded data removed]",
      "text/plain": [
       "<Figure size 720x432 with 1 Axes>"
      ]
     },
     "metadata": {},
     "output_type": "display_data"
    }
   ],
   "source": [
    "plt.figure(figsize=(10,6))\n",
    "sns.distplot(df_trip_train.FinelineNumber,hist=False)"
   ]
  },
  {
   "cell_type": "markdown",
   "id": "2a29d03a-ee83-4344-8bf3-9da6ae613c0d",
   "metadata": {},
   "source": [
    "FinelineNumber terlihat dari sebarannya merupakan data yang terdistribusi multimodal distribution"
   ]
  },
  {
   "cell_type": "markdown",
   "id": "fe817b46-bde9-4236-ab52-00afb7a6b71b",
   "metadata": {},
   "source": [
    "#UPc"
   ]
  },
  {
   "cell_type": "code",
   "execution_count": 46,
   "id": "5782c8d4-2f30-4e82-9b9b-107007528016",
   "metadata": {},
   "outputs": [
    {
     "name": "stderr",
     "output_type": "stream",
     "text": [
      "C:\\Users\\LPDP\\anaconda3\\lib\\site-packages\\seaborn\\distributions.py:2557: FutureWarning: `distplot` is a deprecated function and will be removed in a future version. Please adapt your code to use either `displot` (a figure-level function with similar flexibility) or `kdeplot` (an axes-level function for kernel density plots).\n",
      "  warnings.warn(msg, FutureWarning)\n"
     ]
    },
    {
     "data": {
      "text/plain": [
       "<AxesSubplot:xlabel='Upc', ylabel='Density'>"
      ]
     },
     "execution_count": 46,
     "metadata": {},
     "output_type": "execute_result"
    },
    {
     "data": {
      "image/png": "[encoded data removed]",
      "text/plain": [
       "<Figure size 576x432 with 1 Axes>"
      ]
     },
     "metadata": {},
     "output_type": "display_data"
    }
   ],
   "source": [
    "plt.figure(figsize=(8,6))\n",
    "sns.distplot(df_trip_train.Upc,hist=False)"
   ]
  },
  {
   "cell_type": "markdown",
   "id": "d1f53abc-581d-4061-841c-b90620de3982",
   "metadata": {},
   "source": [
    "# Data Preprocessing"
   ]
  },
  {
   "cell_type": "markdown",
   "id": "962dbb74-e252-4413-a82b-8f5d9402e758",
   "metadata": {},
   "source": [
    "Penyiapan data untuk proses pemodelan klasifikasi"
   ]
  },
  {
   "cell_type": "markdown",
   "id": "a8dd2395-94a3-42fe-811e-3d0614543d58",
   "metadata": {},
   "source": [
    "membuat field baru 'num_of_products' yang menunjukkan jumlah produk yang dibeli untuk setiap 'VisitNumber' berdasarkan 'Upc'"
   ]
  },
  {
   "cell_type": "code",
   "execution_count": 47,
   "id": "e465a267-17b1-4294-beba-cbac3efc0d3a",
   "metadata": {},
   "outputs": [],
   "source": [
    "products_per_visit=df_trip_train.groupby(['VisitNumber'])['Upc'].count()"
   ]
  },
  {
   "cell_type": "code",
   "execution_count": 48,
   "id": "8bdec125-5533-41c6-899e-e0a1995dfd06",
   "metadata": {},
   "outputs": [],
   "source": [
    "products_per_visit_dict=dict(products_per_visit)"
   ]
  },
  {
   "cell_type": "code",
   "execution_count": 50,
   "id": "82dbec54-1b42-4298-8783-5f434ebecedc",
   "metadata": {},
   "outputs": [],
   "source": [
    "df_trip_train['num_of_products_for_VisitNumber']=df_trip_train['VisitNumber'].apply(lambda x:products_per_visit_dict.get(x,0))"
   ]
  },
  {
   "cell_type": "code",
   "execution_count": 51,
   "id": "bca911a2-b4fd-4467-822b-be4ff968a787",
   "metadata": {},
   "outputs": [
    {
     "data": {
      "text/html": [
       "<div>\n",
       "<style scoped>\n",
       "    .dataframe tbody tr th:only-of-type {\n",
       "        vertical-align: middle;\n",
       "    }\n",
       "\n",
       "    .dataframe tbody tr th {\n",
       "        vertical-align: top;\n",
       "    }\n",
       "\n",
       "    .dataframe thead th {\n",
       "        text-align: right;\n",
       "    }\n",
       "</style>\n",
       "<table border=\"1\" class=\"dataframe\">\n",
       "  <thead>\n",
       "    <tr style=\"text-align: right;\">\n",
       "      <th></th>\n",
       "      <th>TripType</th>\n",
       "      <th>VisitNumber</th>\n",
       "      <th>Weekday</th>\n",
       "      <th>Upc</th>\n",
       "      <th>ScanCount</th>\n",
       "      <th>DepartmentDescription</th>\n",
       "      <th>FinelineNumber</th>\n",
       "      <th>weekday_num</th>\n",
       "      <th>Department_num</th>\n",
       "      <th>num_of_products_for_VisitNumber</th>\n",
       "    </tr>\n",
       "  </thead>\n",
       "  <tbody>\n",
       "    <tr>\n",
       "      <th>0</th>\n",
       "      <td>999</td>\n",
       "      <td>5</td>\n",
       "      <td>Friday</td>\n",
       "      <td>6.811315e+10</td>\n",
       "      <td>-1</td>\n",
       "      <td>FINANCIAL SERVICES</td>\n",
       "      <td>1000.0</td>\n",
       "      <td>4</td>\n",
       "      <td>0</td>\n",
       "      <td>1</td>\n",
       "    </tr>\n",
       "    <tr>\n",
       "      <th>1</th>\n",
       "      <td>30</td>\n",
       "      <td>7</td>\n",
       "      <td>Friday</td>\n",
       "      <td>6.053882e+10</td>\n",
       "      <td>1</td>\n",
       "      <td>SHOES</td>\n",
       "      <td>8931.0</td>\n",
       "      <td>4</td>\n",
       "      <td>1</td>\n",
       "      <td>2</td>\n",
       "    </tr>\n",
       "    <tr>\n",
       "      <th>2</th>\n",
       "      <td>30</td>\n",
       "      <td>7</td>\n",
       "      <td>Friday</td>\n",
       "      <td>7.410811e+09</td>\n",
       "      <td>1</td>\n",
       "      <td>PERSONAL CARE</td>\n",
       "      <td>4504.0</td>\n",
       "      <td>4</td>\n",
       "      <td>2</td>\n",
       "      <td>2</td>\n",
       "    </tr>\n",
       "    <tr>\n",
       "      <th>3</th>\n",
       "      <td>26</td>\n",
       "      <td>8</td>\n",
       "      <td>Friday</td>\n",
       "      <td>2.238404e+09</td>\n",
       "      <td>2</td>\n",
       "      <td>PAINT AND ACCESSORIES</td>\n",
       "      <td>3565.0</td>\n",
       "      <td>4</td>\n",
       "      <td>3</td>\n",
       "      <td>23</td>\n",
       "    </tr>\n",
       "    <tr>\n",
       "      <th>4</th>\n",
       "      <td>26</td>\n",
       "      <td>8</td>\n",
       "      <td>Friday</td>\n",
       "      <td>2.006614e+09</td>\n",
       "      <td>2</td>\n",
       "      <td>PAINT AND ACCESSORIES</td>\n",
       "      <td>1017.0</td>\n",
       "      <td>4</td>\n",
       "      <td>3</td>\n",
       "      <td>23</td>\n",
       "    </tr>\n",
       "  </tbody>\n",
       "</table>\n",
       "</div>"
      ],
      "text/plain": [
       "   TripType  VisitNumber Weekday           Upc  ScanCount  \\\n",
       "0       999            5  Friday  6.811315e+10         -1   \n",
       "1        30            7  Friday  6.053882e+10          1   \n",
       "2        30            7  Friday  7.410811e+09          1   \n",
       "3        26            8  Friday  2.238404e+09          2   \n",
       "4        26            8  Friday  2.006614e+09          2   \n",
       "\n",
       "   DepartmentDescription  FinelineNumber  weekday_num  Department_num  \\\n",
       "0     FINANCIAL SERVICES          1000.0            4               0   \n",
       "1                  SHOES          8931.0            4               1   \n",
       "2          PERSONAL CARE          4504.0            4               2   \n",
       "3  PAINT AND ACCESSORIES          3565.0            4               3   \n",
       "4  PAINT AND ACCESSORIES          1017.0            4               3   \n",
       "\n",
       "   num_of_products_for_VisitNumber  \n",
       "0                                1  \n",
       "1                                2  \n",
       "2                                2  \n",
       "3                               23  \n",
       "4                               23  "
      ]
     },
     "execution_count": 51,
     "metadata": {},
     "output_type": "execute_result"
    }
   ],
   "source": [
    "df_trip_train.head()"
   ]
  },
  {
   "cell_type": "code",
   "execution_count": 52,
   "id": "c7b1a202-60fa-475d-8856-91d7fae97383",
   "metadata": {},
   "outputs": [
    {
     "name": "stderr",
     "output_type": "stream",
     "text": [
      "C:\\Users\\LPDP\\anaconda3\\lib\\site-packages\\seaborn\\distributions.py:2557: FutureWarning: `distplot` is a deprecated function and will be removed in a future version. Please adapt your code to use either `displot` (a figure-level function with similar flexibility) or `histplot` (an axes-level function for histograms).\n",
      "  warnings.warn(msg, FutureWarning)\n"
     ]
    },
    {
     "data": {
      "text/plain": [
       "<AxesSubplot:xlabel='num_of_products_for_VisitNumber', ylabel='Density'>"
      ]
     },
     "execution_count": 52,
     "metadata": {},
     "output_type": "execute_result"
    },
    {
     "data": {
      "image/png": "[encoded data removed]",
      "text/plain": [
       "<Figure size 864x432 with 1 Axes>"
      ]
     },
     "metadata": {},
     "output_type": "display_data"
    }
   ],
   "source": [
    "plt.figure(figsize=(12,6))\n",
    "sns.distplot(df_trip_train.num_of_products_for_VisitNumber,bins=99)"
   ]
  },
  {
   "cell_type": "markdown",
   "id": "6d2dd78b-e8db-4cf4-865b-954807508e72",
   "metadata": {},
   "source": [
    "distribusi jumlah produk yang dibeli untuk setiap VisitNumer terlihat miring. Ada lebih banyak kemungkinan untuk membeli lebih sedikit jumlah produk"
   ]
  },
  {
   "cell_type": "markdown",
   "id": "b4376a5d-51ae-49b8-b126-11888506c0f3",
   "metadata": {},
   "source": [
    "Kita akan memeriksa apakah num_of_products entah bagaimana terkait dengan hari di mana belanja dilakukan."
   ]
  },
  {
   "cell_type": "code",
   "execution_count": 54,
   "id": "18294ec4-9ef0-4822-81cc-d4976c4ee000",
   "metadata": {},
   "outputs": [
    {
     "data": {
      "text/plain": [
       "<seaborn.axisgrid.JointGrid at 0x2601eeb3f40>"
      ]
     },
     "execution_count": 54,
     "metadata": {},
     "output_type": "execute_result"
    },
    {
     "data": {
      "image/png": "[encoded data removed]",
      "text/plain": [
       "<Figure size 432x432 with 3 Axes>"
      ]
     },
     "metadata": {},
     "output_type": "display_data"
    }
   ],
   "source": [
    "sns.jointplot(y='num_of_products_for_VisitNumber',x='weekday_num',data=df_trip_train)"
   ]
  },
  {
   "cell_type": "code",
   "execution_count": 57,
   "id": "078fc435-b106-4b25-b422-b42f9ee5c738",
   "metadata": {},
   "outputs": [
    {
     "data": {
      "text/plain": [
       "<AxesSubplot:xlabel='Weekday', ylabel='num_of_products_for_VisitNumber'>"
      ]
     },
     "execution_count": 57,
     "metadata": {},
     "output_type": "execute_result"
    },
    {
     "data": {
      "image/png": "[encoded data removed]",
      "text/plain": [
       "<Figure size 576x576 with 1 Axes>"
      ]
     },
     "metadata": {},
     "output_type": "display_data"
    }
   ],
   "source": [
    "plt.figure(figsize=(8,8))\n",
    "sns.boxplot(x='Weekday',y='num_of_products_for_VisitNumber',data=df_trip_train)"
   ]
  },
  {
   "cell_type": "code",
   "execution_count": null,
   "id": "70f006df-9d47-467f-b612-626b815d8b3a",
   "metadata": {},
   "outputs": [],
   "source": [
    "Pada akhir pekan dan pada hari Senin ada lebih banyak produk yang dibeli per VisitNumber"
   ]
  },
  {
   "cell_type": "code",
   "execution_count": 58,
   "id": "06ca62ca-69a2-4c36-9269-b725eaa5a919",
   "metadata": {},
   "outputs": [
    {
     "data": {
      "text/plain": [
       "5195"
      ]
     },
     "execution_count": 58,
     "metadata": {},
     "output_type": "execute_result"
    }
   ],
   "source": [
    "df_trip_train.FinelineNumber.nunique()"
   ]
  },
  {
   "cell_type": "code",
   "execution_count": 59,
   "id": "83502f82-12e2-4a2d-b18a-c0211ad8c7da",
   "metadata": {},
   "outputs": [],
   "source": [
    "groupby_dept=df_trip_train.groupby(['Department_num'])"
   ]
  },
  {
   "cell_type": "code",
   "execution_count": 60,
   "id": "fa219f37-2db4-4f2d-a8ef-f75e5f65ab9f",
   "metadata": {},
   "outputs": [
    {
     "data": {
      "text/plain": [
       "<seaborn.axisgrid.JointGrid at 0x2601f156430>"
      ]
     },
     "execution_count": 60,
     "metadata": {},
     "output_type": "execute_result"
    },
    {
     "data": {
      "image/png": "[encoded data removed]",
      "text/plain": [
       "<Figure size 432x432 with 3 Axes>"
      ]
     },
     "metadata": {},
     "output_type": "display_data"
    }
   ],
   "source": [
    "sns.jointplot(y='num_of_products_for_VisitNumber',x='TripType',data=df_trip_train[df_trip_train['TripType']<900])"
   ]
  },
  {
   "cell_type": "raw",
   "id": "7f2d1fa1-0e66-4f67-92a9-5ec2c2544c95",
   "metadata": {},
   "source": [
    "num_of_products terlihat meningkat seiring dengan peningkatan TripType"
   ]
  },
  {
   "cell_type": "code",
   "execution_count": 61,
   "id": "8ca8f9be-00e4-4809-902b-52221a8b5ff5",
   "metadata": {},
   "outputs": [
    {
     "data": {
      "text/plain": [
       "<AxesSubplot:xlabel='TripType', ylabel='num_of_products_for_VisitNumber'>"
      ]
     },
     "execution_count": 61,
     "metadata": {},
     "output_type": "execute_result"
    },
    {
     "data": {
      "image/png": "[encoded data removed]",
      "text/plain": [
       "<Figure size 1440x576 with 1 Axes>"
      ]
     },
     "metadata": {},
     "output_type": "display_data"
    }
   ],
   "source": [
    "plt.figure(figsize=(20,8))\n",
    "sns.boxplot(x='TripType',y='num_of_products_for_VisitNumber',data=df_trip_train)"
   ]
  },
  {
   "cell_type": "code",
   "execution_count": 62,
   "id": "a8bd8e53-f54c-4063-8b71-88dfd1f0d96f",
   "metadata": {},
   "outputs": [],
   "source": [
    "Department_num_of_products=dict(df_trip_train.groupby('Department_num')['Upc'].count())"
   ]
  },
  {
   "cell_type": "code",
   "execution_count": 64,
   "id": "4dfb054b-9d45-4598-8f20-fae17d4f5015",
   "metadata": {},
   "outputs": [],
   "source": [
    "df_trip_train['num_of_products_for_department']=df_trip_train['Department_num'].apply(lambda x:Department_num_of_products.get(x))"
   ]
  },
  {
   "cell_type": "code",
   "execution_count": 65,
   "id": "b77f18ff-095e-4476-99e2-9d7afbee20ca",
   "metadata": {},
   "outputs": [
    {
     "data": {
      "text/plain": [
       "<AxesSubplot:xlabel='TripType', ylabel='num_of_products_for_department'>"
      ]
     },
     "execution_count": 65,
     "metadata": {},
     "output_type": "execute_result"
    },
    {
     "data": {
      "image/png": "[encoded data removed]",
      "text/plain": [
       "<Figure size 1440x576 with 1 Axes>"
      ]
     },
     "metadata": {},
     "output_type": "display_data"
    }
   ],
   "source": [
    "plt.figure(figsize=(20,8))\n",
    "sns.boxplot(x='TripType',y='num_of_products_for_department',data=df_trip_train)"
   ]
  },
  {
   "cell_type": "code",
   "execution_count": 107,
   "id": "c0bdc17b-4397-45ec-bf09-2e01cb40cbae",
   "metadata": {},
   "outputs": [],
   "source": [
    "one_hot_encoded_weekday=pd.get_dummies(df_trip_train['Weekday'],drop_first=False)"
   ]
  },
  {
   "cell_type": "code",
   "execution_count": 106,
   "id": "54e8a6f6-1d66-400c-abbc-49f95734bcfd",
   "metadata": {},
   "outputs": [
    {
     "data": {
      "text/html": [
       "<div>\n",
       "<style scoped>\n",
       "    .dataframe tbody tr th:only-of-type {\n",
       "        vertical-align: middle;\n",
       "    }\n",
       "\n",
       "    .dataframe tbody tr th {\n",
       "        vertical-align: top;\n",
       "    }\n",
       "\n",
       "    .dataframe thead th {\n",
       "        text-align: right;\n",
       "    }\n",
       "</style>\n",
       "<table border=\"1\" class=\"dataframe\">\n",
       "  <thead>\n",
       "    <tr style=\"text-align: right;\">\n",
       "      <th></th>\n",
       "      <th>Friday</th>\n",
       "      <th>Monday</th>\n",
       "      <th>Saturday</th>\n",
       "      <th>Sunday</th>\n",
       "      <th>Thursday</th>\n",
       "      <th>Tuesday</th>\n",
       "      <th>Wednesday</th>\n",
       "    </tr>\n",
       "  </thead>\n",
       "  <tbody>\n",
       "    <tr>\n",
       "      <th>0</th>\n",
       "      <td>1</td>\n",
       "      <td>0</td>\n",
       "      <td>0</td>\n",
       "      <td>0</td>\n",
       "      <td>0</td>\n",
       "      <td>0</td>\n",
       "      <td>0</td>\n",
       "    </tr>\n",
       "    <tr>\n",
       "      <th>1</th>\n",
       "      <td>1</td>\n",
       "      <td>0</td>\n",
       "      <td>0</td>\n",
       "      <td>0</td>\n",
       "      <td>0</td>\n",
       "      <td>0</td>\n",
       "      <td>0</td>\n",
       "    </tr>\n",
       "    <tr>\n",
       "      <th>2</th>\n",
       "      <td>1</td>\n",
       "      <td>0</td>\n",
       "      <td>0</td>\n",
       "      <td>0</td>\n",
       "      <td>0</td>\n",
       "      <td>0</td>\n",
       "      <td>0</td>\n",
       "    </tr>\n",
       "    <tr>\n",
       "      <th>3</th>\n",
       "      <td>1</td>\n",
       "      <td>0</td>\n",
       "      <td>0</td>\n",
       "      <td>0</td>\n",
       "      <td>0</td>\n",
       "      <td>0</td>\n",
       "      <td>0</td>\n",
       "    </tr>\n",
       "    <tr>\n",
       "      <th>4</th>\n",
       "      <td>1</td>\n",
       "      <td>0</td>\n",
       "      <td>0</td>\n",
       "      <td>0</td>\n",
       "      <td>0</td>\n",
       "      <td>0</td>\n",
       "      <td>0</td>\n",
       "    </tr>\n",
       "  </tbody>\n",
       "</table>\n",
       "</div>"
      ],
      "text/plain": [
       "   Friday  Monday  Saturday  Sunday  Thursday  Tuesday  Wednesday\n",
       "0       1       0         0       0         0        0          0\n",
       "1       1       0         0       0         0        0          0\n",
       "2       1       0         0       0         0        0          0\n",
       "3       1       0         0       0         0        0          0\n",
       "4       1       0         0       0         0        0          0"
      ]
     },
     "execution_count": 106,
     "metadata": {},
     "output_type": "execute_result"
    }
   ],
   "source": [
    "one_hot_encoded_weekday.head()"
   ]
  },
  {
   "cell_type": "code",
   "execution_count": 108,
   "id": "507b9e2c-a45e-46a6-ba8f-979b7f6cde24",
   "metadata": {},
   "outputs": [],
   "source": [
    "df_trip_train=pd.concat([df_trip_train,one_hot_encoded_weekday],axis=1)"
   ]
  },
  {
   "cell_type": "code",
   "execution_count": 69,
   "id": "749bc568-7771-45c8-9ca5-1cb02d74e792",
   "metadata": {},
   "outputs": [
    {
     "data": {
      "text/html": [
       "<div>\n",
       "<style scoped>\n",
       "    .dataframe tbody tr th:only-of-type {\n",
       "        vertical-align: middle;\n",
       "    }\n",
       "\n",
       "    .dataframe tbody tr th {\n",
       "        vertical-align: top;\n",
       "    }\n",
       "\n",
       "    .dataframe thead th {\n",
       "        text-align: right;\n",
       "    }\n",
       "</style>\n",
       "<table border=\"1\" class=\"dataframe\">\n",
       "  <thead>\n",
       "    <tr style=\"text-align: right;\">\n",
       "      <th></th>\n",
       "      <th>TripType</th>\n",
       "      <th>VisitNumber</th>\n",
       "      <th>Weekday</th>\n",
       "      <th>Upc</th>\n",
       "      <th>ScanCount</th>\n",
       "      <th>DepartmentDescription</th>\n",
       "      <th>FinelineNumber</th>\n",
       "      <th>weekday_num</th>\n",
       "      <th>Department_num</th>\n",
       "      <th>num_of_products_for_VisitNumber</th>\n",
       "      <th>num_of_products_for_department</th>\n",
       "      <th>Friday</th>\n",
       "      <th>Monday</th>\n",
       "      <th>Saturday</th>\n",
       "      <th>Sunday</th>\n",
       "      <th>Thursday</th>\n",
       "      <th>Tuesday</th>\n",
       "      <th>Wednesday</th>\n",
       "    </tr>\n",
       "  </thead>\n",
       "  <tbody>\n",
       "    <tr>\n",
       "      <th>0</th>\n",
       "      <td>999</td>\n",
       "      <td>5</td>\n",
       "      <td>Friday</td>\n",
       "      <td>6.811315e+10</td>\n",
       "      <td>-1</td>\n",
       "      <td>FINANCIAL SERVICES</td>\n",
       "      <td>1000.0</td>\n",
       "      <td>4</td>\n",
       "      <td>0</td>\n",
       "      <td>1</td>\n",
       "      <td>10723</td>\n",
       "      <td>1</td>\n",
       "      <td>0</td>\n",
       "      <td>0</td>\n",
       "      <td>0</td>\n",
       "      <td>0</td>\n",
       "      <td>0</td>\n",
       "      <td>0</td>\n",
       "    </tr>\n",
       "    <tr>\n",
       "      <th>1</th>\n",
       "      <td>30</td>\n",
       "      <td>7</td>\n",
       "      <td>Friday</td>\n",
       "      <td>6.053882e+10</td>\n",
       "      <td>1</td>\n",
       "      <td>SHOES</td>\n",
       "      <td>8931.0</td>\n",
       "      <td>4</td>\n",
       "      <td>1</td>\n",
       "      <td>2</td>\n",
       "      <td>6099</td>\n",
       "      <td>1</td>\n",
       "      <td>0</td>\n",
       "      <td>0</td>\n",
       "      <td>0</td>\n",
       "      <td>0</td>\n",
       "      <td>0</td>\n",
       "      <td>0</td>\n",
       "    </tr>\n",
       "    <tr>\n",
       "      <th>2</th>\n",
       "      <td>30</td>\n",
       "      <td>7</td>\n",
       "      <td>Friday</td>\n",
       "      <td>7.410811e+09</td>\n",
       "      <td>1</td>\n",
       "      <td>PERSONAL CARE</td>\n",
       "      <td>4504.0</td>\n",
       "      <td>4</td>\n",
       "      <td>2</td>\n",
       "      <td>2</td>\n",
       "      <td>41969</td>\n",
       "      <td>1</td>\n",
       "      <td>0</td>\n",
       "      <td>0</td>\n",
       "      <td>0</td>\n",
       "      <td>0</td>\n",
       "      <td>0</td>\n",
       "      <td>0</td>\n",
       "    </tr>\n",
       "    <tr>\n",
       "      <th>3</th>\n",
       "      <td>26</td>\n",
       "      <td>8</td>\n",
       "      <td>Friday</td>\n",
       "      <td>2.238404e+09</td>\n",
       "      <td>2</td>\n",
       "      <td>PAINT AND ACCESSORIES</td>\n",
       "      <td>3565.0</td>\n",
       "      <td>4</td>\n",
       "      <td>3</td>\n",
       "      <td>23</td>\n",
       "      <td>1720</td>\n",
       "      <td>1</td>\n",
       "      <td>0</td>\n",
       "      <td>0</td>\n",
       "      <td>0</td>\n",
       "      <td>0</td>\n",
       "      <td>0</td>\n",
       "      <td>0</td>\n",
       "    </tr>\n",
       "    <tr>\n",
       "      <th>4</th>\n",
       "      <td>26</td>\n",
       "      <td>8</td>\n",
       "      <td>Friday</td>\n",
       "      <td>2.006614e+09</td>\n",
       "      <td>2</td>\n",
       "      <td>PAINT AND ACCESSORIES</td>\n",
       "      <td>1017.0</td>\n",
       "      <td>4</td>\n",
       "      <td>3</td>\n",
       "      <td>23</td>\n",
       "      <td>1720</td>\n",
       "      <td>1</td>\n",
       "      <td>0</td>\n",
       "      <td>0</td>\n",
       "      <td>0</td>\n",
       "      <td>0</td>\n",
       "      <td>0</td>\n",
       "      <td>0</td>\n",
       "    </tr>\n",
       "  </tbody>\n",
       "</table>\n",
       "</div>"
      ],
      "text/plain": [
       "   TripType  VisitNumber Weekday           Upc  ScanCount  \\\n",
       "0       999            5  Friday  6.811315e+10         -1   \n",
       "1        30            7  Friday  6.053882e+10          1   \n",
       "2        30            7  Friday  7.410811e+09          1   \n",
       "3        26            8  Friday  2.238404e+09          2   \n",
       "4        26            8  Friday  2.006614e+09          2   \n",
       "\n",
       "   DepartmentDescription  FinelineNumber  weekday_num  Department_num  \\\n",
       "0     FINANCIAL SERVICES          1000.0            4               0   \n",
       "1                  SHOES          8931.0            4               1   \n",
       "2          PERSONAL CARE          4504.0            4               2   \n",
       "3  PAINT AND ACCESSORIES          3565.0            4               3   \n",
       "4  PAINT AND ACCESSORIES          1017.0            4               3   \n",
       "\n",
       "   num_of_products_for_VisitNumber  num_of_products_for_department  Friday  \\\n",
       "0                                1                           10723       1   \n",
       "1                                2                            6099       1   \n",
       "2                                2                           41969       1   \n",
       "3                               23                            1720       1   \n",
       "4                               23                            1720       1   \n",
       "\n",
       "   Monday  Saturday  Sunday  Thursday  Tuesday  Wednesday  \n",
       "0       0         0       0         0        0          0  \n",
       "1       0         0       0         0        0          0  \n",
       "2       0         0       0         0        0          0  \n",
       "3       0         0       0         0        0          0  \n",
       "4       0         0       0         0        0          0  "
      ]
     },
     "execution_count": 69,
     "metadata": {},
     "output_type": "execute_result"
    }
   ],
   "source": [
    "df_trip_train.head()"
   ]
  },
  {
   "cell_type": "code",
   "execution_count": 70,
   "id": "bd9412fe-6350-4e0b-84e0-782f55d5d791",
   "metadata": {},
   "outputs": [
    {
     "name": "stdout",
     "output_type": "stream",
     "text": [
      "<class 'pandas.core.frame.DataFrame'>\n",
      "RangeIndex: 647054 entries, 0 to 647053\n",
      "Data columns (total 18 columns):\n",
      " #   Column                           Non-Null Count   Dtype  \n",
      "---  ------                           --------------   -----  \n",
      " 0   TripType                         647054 non-null  int64  \n",
      " 1   VisitNumber                      647054 non-null  int64  \n",
      " 2   Weekday                          647054 non-null  object \n",
      " 3   Upc                              647054 non-null  float64\n",
      " 4   ScanCount                        647054 non-null  int64  \n",
      " 5   DepartmentDescription            647054 non-null  object \n",
      " 6   FinelineNumber                   647054 non-null  float64\n",
      " 7   weekday_num                      647054 non-null  int64  \n",
      " 8   Department_num                   647054 non-null  int64  \n",
      " 9   num_of_products_for_VisitNumber  647054 non-null  int64  \n",
      " 10  num_of_products_for_department   647054 non-null  int64  \n",
      " 11  Friday                           647054 non-null  uint8  \n",
      " 12  Monday                           647054 non-null  uint8  \n",
      " 13  Saturday                         647054 non-null  uint8  \n",
      " 14  Sunday                           647054 non-null  uint8  \n",
      " 15  Thursday                         647054 non-null  uint8  \n",
      " 16  Tuesday                          647054 non-null  uint8  \n",
      " 17  Wednesday                        647054 non-null  uint8  \n",
      "dtypes: float64(2), int64(7), object(2), uint8(7)\n",
      "memory usage: 58.6+ MB\n"
     ]
    }
   ],
   "source": [
    "df_trip_train.info()"
   ]
  },
  {
   "cell_type": "markdown",
   "id": "e4e1aebd-6969-4138-a283-5a885b9ddaca",
   "metadata": {},
   "source": [
    "# Splitting Data"
   ]
  },
  {
   "cell_type": "markdown",
   "id": "8f7c7520-5365-4f96-9f06-6a2f939d245a",
   "metadata": {},
   "source": [
    "Memisahkan data menjadi X dan Y dan kemudian membuat train, cross validation dan test sets"
   ]
  },
  {
   "cell_type": "code",
   "execution_count": 71,
   "id": "aa9f6792-26b3-41d2-8be7-8ccf29a019cc",
   "metadata": {},
   "outputs": [],
   "source": [
    "Y=df_trip_train.TripType\n",
    "X=df_trip_train.drop(columns=['TripType'])"
   ]
  },
  {
   "cell_type": "code",
   "execution_count": 72,
   "id": "e7ca86b9-c5c4-4636-bcad-e4d9c610f9e7",
   "metadata": {},
   "outputs": [],
   "source": [
    "X['FinelineCat']=pd.cut(X['FinelineNumber'],bins=50,labels=False)"
   ]
  },
  {
   "cell_type": "code",
   "execution_count": 73,
   "id": "e1439ec4-37ae-47a8-b52d-1a6ecffa7382",
   "metadata": {},
   "outputs": [
    {
     "data": {
      "text/html": [
       "<div>\n",
       "<style scoped>\n",
       "    .dataframe tbody tr th:only-of-type {\n",
       "        vertical-align: middle;\n",
       "    }\n",
       "\n",
       "    .dataframe tbody tr th {\n",
       "        vertical-align: top;\n",
       "    }\n",
       "\n",
       "    .dataframe thead th {\n",
       "        text-align: right;\n",
       "    }\n",
       "</style>\n",
       "<table border=\"1\" class=\"dataframe\">\n",
       "  <thead>\n",
       "    <tr style=\"text-align: right;\">\n",
       "      <th></th>\n",
       "      <th>VisitNumber</th>\n",
       "      <th>Weekday</th>\n",
       "      <th>Upc</th>\n",
       "      <th>ScanCount</th>\n",
       "      <th>DepartmentDescription</th>\n",
       "      <th>FinelineNumber</th>\n",
       "      <th>weekday_num</th>\n",
       "      <th>Department_num</th>\n",
       "      <th>num_of_products_for_VisitNumber</th>\n",
       "      <th>num_of_products_for_department</th>\n",
       "      <th>Friday</th>\n",
       "      <th>Monday</th>\n",
       "      <th>Saturday</th>\n",
       "      <th>Sunday</th>\n",
       "      <th>Thursday</th>\n",
       "      <th>Tuesday</th>\n",
       "      <th>Wednesday</th>\n",
       "      <th>FinelineCat</th>\n",
       "    </tr>\n",
       "  </thead>\n",
       "  <tbody>\n",
       "    <tr>\n",
       "      <th>0</th>\n",
       "      <td>5</td>\n",
       "      <td>Friday</td>\n",
       "      <td>6.811315e+10</td>\n",
       "      <td>-1</td>\n",
       "      <td>FINANCIAL SERVICES</td>\n",
       "      <td>1000.0</td>\n",
       "      <td>4</td>\n",
       "      <td>0</td>\n",
       "      <td>1</td>\n",
       "      <td>10723</td>\n",
       "      <td>1</td>\n",
       "      <td>0</td>\n",
       "      <td>0</td>\n",
       "      <td>0</td>\n",
       "      <td>0</td>\n",
       "      <td>0</td>\n",
       "      <td>0</td>\n",
       "      <td>5</td>\n",
       "    </tr>\n",
       "    <tr>\n",
       "      <th>1</th>\n",
       "      <td>7</td>\n",
       "      <td>Friday</td>\n",
       "      <td>6.053882e+10</td>\n",
       "      <td>1</td>\n",
       "      <td>SHOES</td>\n",
       "      <td>8931.0</td>\n",
       "      <td>4</td>\n",
       "      <td>1</td>\n",
       "      <td>2</td>\n",
       "      <td>6099</td>\n",
       "      <td>1</td>\n",
       "      <td>0</td>\n",
       "      <td>0</td>\n",
       "      <td>0</td>\n",
       "      <td>0</td>\n",
       "      <td>0</td>\n",
       "      <td>0</td>\n",
       "      <td>44</td>\n",
       "    </tr>\n",
       "    <tr>\n",
       "      <th>2</th>\n",
       "      <td>7</td>\n",
       "      <td>Friday</td>\n",
       "      <td>7.410811e+09</td>\n",
       "      <td>1</td>\n",
       "      <td>PERSONAL CARE</td>\n",
       "      <td>4504.0</td>\n",
       "      <td>4</td>\n",
       "      <td>2</td>\n",
       "      <td>2</td>\n",
       "      <td>41969</td>\n",
       "      <td>1</td>\n",
       "      <td>0</td>\n",
       "      <td>0</td>\n",
       "      <td>0</td>\n",
       "      <td>0</td>\n",
       "      <td>0</td>\n",
       "      <td>0</td>\n",
       "      <td>22</td>\n",
       "    </tr>\n",
       "    <tr>\n",
       "      <th>3</th>\n",
       "      <td>8</td>\n",
       "      <td>Friday</td>\n",
       "      <td>2.238404e+09</td>\n",
       "      <td>2</td>\n",
       "      <td>PAINT AND ACCESSORIES</td>\n",
       "      <td>3565.0</td>\n",
       "      <td>4</td>\n",
       "      <td>3</td>\n",
       "      <td>23</td>\n",
       "      <td>1720</td>\n",
       "      <td>1</td>\n",
       "      <td>0</td>\n",
       "      <td>0</td>\n",
       "      <td>0</td>\n",
       "      <td>0</td>\n",
       "      <td>0</td>\n",
       "      <td>0</td>\n",
       "      <td>17</td>\n",
       "    </tr>\n",
       "    <tr>\n",
       "      <th>4</th>\n",
       "      <td>8</td>\n",
       "      <td>Friday</td>\n",
       "      <td>2.006614e+09</td>\n",
       "      <td>2</td>\n",
       "      <td>PAINT AND ACCESSORIES</td>\n",
       "      <td>1017.0</td>\n",
       "      <td>4</td>\n",
       "      <td>3</td>\n",
       "      <td>23</td>\n",
       "      <td>1720</td>\n",
       "      <td>1</td>\n",
       "      <td>0</td>\n",
       "      <td>0</td>\n",
       "      <td>0</td>\n",
       "      <td>0</td>\n",
       "      <td>0</td>\n",
       "      <td>0</td>\n",
       "      <td>5</td>\n",
       "    </tr>\n",
       "  </tbody>\n",
       "</table>\n",
       "</div>"
      ],
      "text/plain": [
       "   VisitNumber Weekday           Upc  ScanCount  DepartmentDescription  \\\n",
       "0            5  Friday  6.811315e+10         -1     FINANCIAL SERVICES   \n",
       "1            7  Friday  6.053882e+10          1                  SHOES   \n",
       "2            7  Friday  7.410811e+09          1          PERSONAL CARE   \n",
       "3            8  Friday  2.238404e+09          2  PAINT AND ACCESSORIES   \n",
       "4            8  Friday  2.006614e+09          2  PAINT AND ACCESSORIES   \n",
       "\n",
       "   FinelineNumber  weekday_num  Department_num  \\\n",
       "0          1000.0            4               0   \n",
       "1          8931.0            4               1   \n",
       "2          4504.0            4               2   \n",
       "3          3565.0            4               3   \n",
       "4          1017.0            4               3   \n",
       "\n",
       "   num_of_products_for_VisitNumber  num_of_products_for_department  Friday  \\\n",
       "0                                1                           10723       1   \n",
       "1                                2                            6099       1   \n",
       "2                                2                           41969       1   \n",
       "3                               23                            1720       1   \n",
       "4                               23                            1720       1   \n",
       "\n",
       "   Monday  Saturday  Sunday  Thursday  Tuesday  Wednesday  FinelineCat  \n",
       "0       0         0       0         0        0          0            5  \n",
       "1       0         0       0         0        0          0           44  \n",
       "2       0         0       0         0        0          0           22  \n",
       "3       0         0       0         0        0          0           17  \n",
       "4       0         0       0         0        0          0            5  "
      ]
     },
     "execution_count": 73,
     "metadata": {},
     "output_type": "execute_result"
    }
   ],
   "source": [
    "X.head()"
   ]
  },
  {
   "cell_type": "code",
   "execution_count": 74,
   "id": "2a048bf1-eb8c-44f0-85eb-8894deaa352a",
   "metadata": {},
   "outputs": [
    {
     "data": {
      "text/plain": [
       "0    999\n",
       "1     30\n",
       "2     30\n",
       "3     26\n",
       "4     26\n",
       "Name: TripType, dtype: int64"
      ]
     },
     "execution_count": 74,
     "metadata": {},
     "output_type": "execute_result"
    }
   ],
   "source": [
    "Y.head()"
   ]
  },
  {
   "cell_type": "code",
   "execution_count": 75,
   "id": "c1db4e80-b3fc-421e-bb1a-ee614f176ca4",
   "metadata": {},
   "outputs": [
    {
     "data": {
      "text/plain": [
       "(647054, 18)"
      ]
     },
     "execution_count": 75,
     "metadata": {},
     "output_type": "execute_result"
    }
   ],
   "source": [
    "df_trip_train.shape"
   ]
  },
  {
   "cell_type": "code",
   "execution_count": 105,
   "id": "3079453c-5d1a-47fc-bd1b-71f2bb058cd8",
   "metadata": {},
   "outputs": [],
   "source": [
    "from sklearn.model_selection import train_test_split\n",
    "x_train,x_test,y_train,y_test=train_test_split(X,Y,stratify=Y,test_size=0.2)\n",
    "x_train,x_cv,y_train,y_cv=train_test_split(x_train,y_train,stratify=y_train,test_size=0.2)"
   ]
  },
  {
   "cell_type": "code",
   "execution_count": 77,
   "id": "b65dd77a-928b-4f1c-ae38-58d4412eb742",
   "metadata": {},
   "outputs": [
    {
     "name": "stdout",
     "output_type": "stream",
     "text": [
      "(414114, 18) (103529, 18) (129411, 18)\n"
     ]
    }
   ],
   "source": [
    "print(x_train.shape,x_cv.shape,x_test.shape)"
   ]
  },
  {
   "cell_type": "code",
   "execution_count": 78,
   "id": "e8f75b4a-24a7-4381-a5fa-7f9d72d14ebe",
   "metadata": {},
   "outputs": [
    {
     "name": "stdout",
     "output_type": "stream",
     "text": [
      "(414114,) (103529,) (129411,)\n"
     ]
    }
   ],
   "source": [
    "print(y_train.shape,y_cv.shape,y_test.shape)"
   ]
  },
  {
   "cell_type": "markdown",
   "id": "264387cf-a536-4df1-99de-437974cdeb0f",
   "metadata": {},
   "source": [
    "#Response encoding untuk fitur kategori lainnya "
   ]
  },
  {
   "cell_type": "markdown",
   "id": "11078640-1686-426c-b4b7-d9515d1c7483",
   "metadata": {},
   "source": [
    "# Response encoding for rest of the rest of the categorical features"
   ]
  },
  {
   "cell_type": "markdown",
   "id": "329948c2-f8ca-43f5-81c2-52146906d12f",
   "metadata": {},
   "source": [
    "Creating a new temporary dataframe from x_train and y_train for getting lookup table for response coding of some categorical features"
   ]
  },
  {
   "cell_type": "code",
   "execution_count": 110,
   "id": "5933df88-c915-47c3-9ffa-d55dd7f493ba",
   "metadata": {},
   "outputs": [],
   "source": [
    "x_train_res=x_train.copy()"
   ]
  },
  {
   "cell_type": "code",
   "execution_count": 111,
   "id": "ebe66276-94e8-4ea3-83bb-e568153e72b1",
   "metadata": {},
   "outputs": [],
   "source": [
    "x_train_res['class']=y_train.values"
   ]
  },
  {
   "cell_type": "code",
   "execution_count": 112,
   "id": "f8f35e77-cf8c-4e76-87cd-dc0cca024657",
   "metadata": {},
   "outputs": [
    {
     "data": {
      "text/plain": [
       "array([ 40,  36,  39,  32,  21,   7,  20,  37,   9,  38,  42,  35,  30,\n",
       "        25,   8,  24,   5, 999,  44,  28,  41,  15,  26,  31,  22,  43,\n",
       "        14,   6,  34,  33,   4,   3,  27,  18,  29,  12,  23,  19],\n",
       "      dtype=int64)"
      ]
     },
     "execution_count": 112,
     "metadata": {},
     "output_type": "execute_result"
    }
   ],
   "source": [
    "y_train.unique()"
   ]
  },
  {
   "cell_type": "code",
   "execution_count": 113,
   "id": "56b5c68e-39d9-473e-b7fd-9bed8d5d5977",
   "metadata": {},
   "outputs": [
    {
     "data": {
      "text/html": [
       "<div>\n",
       "<style scoped>\n",
       "    .dataframe tbody tr th:only-of-type {\n",
       "        vertical-align: middle;\n",
       "    }\n",
       "\n",
       "    .dataframe tbody tr th {\n",
       "        vertical-align: top;\n",
       "    }\n",
       "\n",
       "    .dataframe thead th {\n",
       "        text-align: right;\n",
       "    }\n",
       "</style>\n",
       "<table border=\"1\" class=\"dataframe\">\n",
       "  <thead>\n",
       "    <tr style=\"text-align: right;\">\n",
       "      <th></th>\n",
       "      <th>VisitNumber</th>\n",
       "      <th>Weekday</th>\n",
       "      <th>Upc</th>\n",
       "      <th>ScanCount</th>\n",
       "      <th>DepartmentDescription</th>\n",
       "      <th>FinelineNumber</th>\n",
       "      <th>weekday_num</th>\n",
       "      <th>Department_num</th>\n",
       "      <th>num_of_products_for_VisitNumber</th>\n",
       "      <th>num_of_products_for_department</th>\n",
       "      <th>Friday</th>\n",
       "      <th>Monday</th>\n",
       "      <th>Saturday</th>\n",
       "      <th>Sunday</th>\n",
       "      <th>Thursday</th>\n",
       "      <th>Tuesday</th>\n",
       "      <th>Wednesday</th>\n",
       "      <th>FinelineCat</th>\n",
       "      <th>class</th>\n",
       "    </tr>\n",
       "  </thead>\n",
       "  <tbody>\n",
       "    <tr>\n",
       "      <th>157351</th>\n",
       "      <td>47970</td>\n",
       "      <td>Friday</td>\n",
       "      <td>5.410002e+09</td>\n",
       "      <td>2</td>\n",
       "      <td>GROCERY DRY GOODS</td>\n",
       "      <td>2503.0</td>\n",
       "      <td>4</td>\n",
       "      <td>9</td>\n",
       "      <td>35</td>\n",
       "      <td>71763</td>\n",
       "      <td>1</td>\n",
       "      <td>0</td>\n",
       "      <td>0</td>\n",
       "      <td>0</td>\n",
       "      <td>0</td>\n",
       "      <td>0</td>\n",
       "      <td>0</td>\n",
       "      <td>12</td>\n",
       "      <td>40</td>\n",
       "    </tr>\n",
       "    <tr>\n",
       "      <th>323307</th>\n",
       "      <td>97018</td>\n",
       "      <td>Saturday</td>\n",
       "      <td>1.284410e+09</td>\n",
       "      <td>1</td>\n",
       "      <td>AUTOMOTIVE</td>\n",
       "      <td>257.0</td>\n",
       "      <td>5</td>\n",
       "      <td>32</td>\n",
       "      <td>37</td>\n",
       "      <td>5414</td>\n",
       "      <td>0</td>\n",
       "      <td>0</td>\n",
       "      <td>1</td>\n",
       "      <td>0</td>\n",
       "      <td>0</td>\n",
       "      <td>0</td>\n",
       "      <td>0</td>\n",
       "      <td>1</td>\n",
       "      <td>36</td>\n",
       "    </tr>\n",
       "    <tr>\n",
       "      <th>48033</th>\n",
       "      <td>14079</td>\n",
       "      <td>Sunday</td>\n",
       "      <td>4.900005e+09</td>\n",
       "      <td>1</td>\n",
       "      <td>DSD GROCERY</td>\n",
       "      <td>9519.0</td>\n",
       "      <td>6</td>\n",
       "      <td>4</td>\n",
       "      <td>17</td>\n",
       "      <td>68332</td>\n",
       "      <td>0</td>\n",
       "      <td>0</td>\n",
       "      <td>0</td>\n",
       "      <td>1</td>\n",
       "      <td>0</td>\n",
       "      <td>0</td>\n",
       "      <td>0</td>\n",
       "      <td>47</td>\n",
       "      <td>39</td>\n",
       "    </tr>\n",
       "    <tr>\n",
       "      <th>611335</th>\n",
       "      <td>182148</td>\n",
       "      <td>Saturday</td>\n",
       "      <td>7.874209e+09</td>\n",
       "      <td>1</td>\n",
       "      <td>HOUSEHOLD PAPER GOODS</td>\n",
       "      <td>4010.0</td>\n",
       "      <td>5</td>\n",
       "      <td>28</td>\n",
       "      <td>31</td>\n",
       "      <td>16274</td>\n",
       "      <td>0</td>\n",
       "      <td>0</td>\n",
       "      <td>1</td>\n",
       "      <td>0</td>\n",
       "      <td>0</td>\n",
       "      <td>0</td>\n",
       "      <td>0</td>\n",
       "      <td>20</td>\n",
       "      <td>40</td>\n",
       "    </tr>\n",
       "    <tr>\n",
       "      <th>307525</th>\n",
       "      <td>92668</td>\n",
       "      <td>Friday</td>\n",
       "      <td>7.780258e+09</td>\n",
       "      <td>1</td>\n",
       "      <td>BEAUTY</td>\n",
       "      <td>2005.0</td>\n",
       "      <td>4</td>\n",
       "      <td>31</td>\n",
       "      <td>7</td>\n",
       "      <td>14865</td>\n",
       "      <td>1</td>\n",
       "      <td>0</td>\n",
       "      <td>0</td>\n",
       "      <td>0</td>\n",
       "      <td>0</td>\n",
       "      <td>0</td>\n",
       "      <td>0</td>\n",
       "      <td>10</td>\n",
       "      <td>32</td>\n",
       "    </tr>\n",
       "  </tbody>\n",
       "</table>\n",
       "</div>"
      ],
      "text/plain": [
       "        VisitNumber   Weekday           Upc  ScanCount  DepartmentDescription  \\\n",
       "157351        47970    Friday  5.410002e+09          2      GROCERY DRY GOODS   \n",
       "323307        97018  Saturday  1.284410e+09          1             AUTOMOTIVE   \n",
       "48033         14079    Sunday  4.900005e+09          1            DSD GROCERY   \n",
       "611335       182148  Saturday  7.874209e+09          1  HOUSEHOLD PAPER GOODS   \n",
       "307525        92668    Friday  7.780258e+09          1                 BEAUTY   \n",
       "\n",
       "        FinelineNumber  weekday_num  Department_num  \\\n",
       "157351          2503.0            4               9   \n",
       "323307           257.0            5              32   \n",
       "48033           9519.0            6               4   \n",
       "611335          4010.0            5              28   \n",
       "307525          2005.0            4              31   \n",
       "\n",
       "        num_of_products_for_VisitNumber  num_of_products_for_department  \\\n",
       "157351                               35                           71763   \n",
       "323307                               37                            5414   \n",
       "48033                                17                           68332   \n",
       "611335                               31                           16274   \n",
       "307525                                7                           14865   \n",
       "\n",
       "        Friday  Monday  Saturday  Sunday  Thursday  Tuesday  Wednesday  \\\n",
       "157351       1       0         0       0         0        0          0   \n",
       "323307       0       0         1       0         0        0          0   \n",
       "48033        0       0         0       1         0        0          0   \n",
       "611335       0       0         1       0         0        0          0   \n",
       "307525       1       0         0       0         0        0          0   \n",
       "\n",
       "        FinelineCat  class  \n",
       "157351           12     40  \n",
       "323307            1     36  \n",
       "48033            47     39  \n",
       "611335           20     40  \n",
       "307525           10     32  "
      ]
     },
     "execution_count": 113,
     "metadata": {},
     "output_type": "execute_result"
    }
   ],
   "source": [
    "x_train_res.head()"
   ]
  },
  {
   "cell_type": "markdown",
   "id": "dd3c1c04-7f82-4570-b927-10017614b431",
   "metadata": {},
   "source": [
    "Functions for response encoding"
   ]
  },
  {
   "cell_type": "code",
   "execution_count": 115,
   "id": "34e7377b-2392-43aa-8285-6bfe5e2fbc65",
   "metadata": {},
   "outputs": [],
   "source": [
    "from tqdm import tqdm\n",
    "def get_lookup_dict(alpha,feature):\n",
    "  value_count = x_train_res[feature].value_counts()\n",
    "  lookup_dict = dict()\n",
    "  for i, denominator in tqdm(value_count.items()):\n",
    "    vec = []\n",
    "    for k in y_train.unique():\n",
    "      cls_cnt = x_train_res.loc[(x_train_res['class']==k) & (x_train_res[feature]==i)]\n",
    "      vec.append((cls_cnt.shape[0] + alpha*10)/ (denominator + 90*alpha))\n",
    "    \n",
    "    lookup_dict[i]=vec\n",
    "  \n",
    "  return lookup_dict"
   ]
  },
  {
   "cell_type": "code",
   "execution_count": 116,
   "id": "695fb6de-e9a8-4538-8a9a-90b9305475c0",
   "metadata": {},
   "outputs": [],
   "source": [
    "from tqdm import tqdm\n",
    "def get_encoded_feature(alpha,feature,df,lookup_dict):\n",
    "  #lookup_dict=get_lookup_dict(alpha,feature,df)\n",
    "  value_count = x_train_res[feature].value_counts()\n",
    "  gv_fea = []\n",
    "  for index, row in tqdm(df.iterrows()):\n",
    "\n",
    "    if row[feature] in dict(value_count).keys():\n",
    "        gv_fea.append(lookup_dict[row[feature]])\n",
    "    else:\n",
    "        gv_fea.append([1/38]*38)\n",
    "#           gv_fea.append([-1,-1,-1,-1,-1,-1,-1,-1,-1])\n",
    "  \n",
    "  return gv_fea"
   ]
  },
  {
   "cell_type": "markdown",
   "id": "25e47a5b-59ed-4833-8cda-c69f5d411dc7",
   "metadata": {},
   "source": [
    "response encoding 'DepartmentDescription'"
   ]
  },
  {
   "cell_type": "code",
   "execution_count": 117,
   "id": "eaa5f954-bdb1-406c-82bc-4051b119f9e8",
   "metadata": {},
   "outputs": [
    {
     "name": "stderr",
     "output_type": "stream",
     "text": [
      "68it [01:31,  1.35s/it]\n"
     ]
    }
   ],
   "source": [
    "lookup_dict_DD=get_lookup_dict(1,'DepartmentDescription')"
   ]
  },
  {
   "cell_type": "code",
   "execution_count": 118,
   "id": "d1c56f7b-df17-448b-9b2d-aa637dc82df3",
   "metadata": {},
   "outputs": [
    {
     "name": "stderr",
     "output_type": "stream",
     "text": [
      "414114it [03:13, 2140.80it/s]\n"
     ]
    }
   ],
   "source": [
    "alpha = 1\n",
    "train_department_feature_responseCoding=np.array(get_encoded_feature(alpha, \"DepartmentDescription\", x_train,lookup_dict_DD))"
   ]
  },
  {
   "cell_type": "code",
   "execution_count": 119,
   "id": "68c2bc60-274b-4660-861c-a2ebaae56241",
   "metadata": {},
   "outputs": [
    {
     "name": "stderr",
     "output_type": "stream",
     "text": [
      "129411it [00:59, 2158.44it/s]\n"
     ]
    }
   ],
   "source": [
    "test_department_feature_responseCoding=np.array(get_encoded_feature(alpha, \"DepartmentDescription\", x_test,lookup_dict_DD))"
   ]
  },
  {
   "cell_type": "code",
   "execution_count": 120,
   "id": "3c4576e6-232b-4b9c-98f4-e342c838b9a1",
   "metadata": {},
   "outputs": [
    {
     "name": "stderr",
     "output_type": "stream",
     "text": [
      "103529it [00:46, 2208.47it/s]\n"
     ]
    }
   ],
   "source": [
    "cv_department_feature_responseCoding=np.array(get_encoded_feature(alpha, \"DepartmentDescription\", x_cv,lookup_dict_DD))"
   ]
  },
  {
   "cell_type": "code",
   "execution_count": 121,
   "id": "8b5fdf9e-fa48-43c7-8bf4-2a60b5e6647c",
   "metadata": {},
   "outputs": [
    {
     "data": {
      "text/plain": [
       "(414114, 38)"
      ]
     },
     "execution_count": 121,
     "metadata": {},
     "output_type": "execute_result"
    }
   ],
   "source": [
    "train_department_feature_responseCoding.shape"
   ]
  },
  {
   "cell_type": "code",
   "execution_count": 122,
   "id": "2ff3e9ec-384f-4220-87f0-c1d94c6ca063",
   "metadata": {},
   "outputs": [
    {
     "data": {
      "text/plain": [
       "(129411, 38)"
      ]
     },
     "execution_count": 122,
     "metadata": {},
     "output_type": "execute_result"
    }
   ],
   "source": [
    "test_department_feature_responseCoding.shape"
   ]
  },
  {
   "cell_type": "code",
   "execution_count": 123,
   "id": "d3c3360f-5872-49da-8c89-a75918d4d263",
   "metadata": {},
   "outputs": [
    {
     "data": {
      "text/plain": [
       "(103529, 38)"
      ]
     },
     "execution_count": 123,
     "metadata": {},
     "output_type": "execute_result"
    }
   ],
   "source": [
    "cv_department_feature_responseCoding.shape"
   ]
  },
  {
   "cell_type": "markdown",
   "id": "383ebab7-f8cf-49dc-853b-94a0ffe91ee4",
   "metadata": {},
   "source": [
    "response encoding 'ScanCount'"
   ]
  },
  {
   "cell_type": "code",
   "execution_count": 126,
   "id": "e05bd91e-d1fd-4283-bbe0-83254ce07271",
   "metadata": {},
   "outputs": [
    {
     "data": {
      "text/plain": [
       "39"
      ]
     },
     "execution_count": 126,
     "metadata": {},
     "output_type": "execute_result"
    }
   ],
   "source": [
    "df_trip_train.ScanCount.nunique()"
   ]
  },
  {
   "cell_type": "code",
   "execution_count": 127,
   "id": "1a8c0d5e-a058-41b3-bf76-947eb4b82f29",
   "metadata": {},
   "outputs": [
    {
     "name": "stderr",
     "output_type": "stream",
     "text": [
      "35it [00:03,  9.26it/s]\n"
     ]
    }
   ],
   "source": [
    "lookup_dict_SS=get_lookup_dict(1,'ScanCount')"
   ]
  },
  {
   "cell_type": "code",
   "execution_count": 128,
   "id": "1bd73f53-79dc-4c64-943c-a670c7113c4c",
   "metadata": {},
   "outputs": [
    {
     "name": "stderr",
     "output_type": "stream",
     "text": [
      "414114it [02:24, 2872.09it/s]\n"
     ]
    }
   ],
   "source": [
    "train_ScanCount_feature_responseCoding=np.array(get_encoded_feature(alpha, \"ScanCount\", x_train,lookup_dict_SS))"
   ]
  },
  {
   "cell_type": "code",
   "execution_count": null,
   "id": "3a0c6f9e-5959-413e-b8a6-71caabd0b28b",
   "metadata": {},
   "outputs": [],
   "source": [
    "test_ScanCount_feature_responseCoding=np.array(get_encoded_feature(alpha, \"ScanCount\", x_test,lookup_dict_SS))"
   ]
  },
  {
   "cell_type": "code",
   "execution_count": null,
   "id": "0a3a7011-bfcd-41e7-a41f-b7c70261e78b",
   "metadata": {},
   "outputs": [],
   "source": [
    "cv_ScanCount_feature_responseCoding=np.array(get_encoded_feature(alpha, \"ScanCount\", x_cv,lookup_dict_SS))"
   ]
  },
  {
   "cell_type": "code",
   "execution_count": null,
   "id": "e558a56f-626b-42cf-9b34-9a7638230515",
   "metadata": {},
   "outputs": [],
   "source": [
    "train_ScanCount_feature_responseCoding.shape"
   ]
  },
  {
   "cell_type": "code",
   "execution_count": null,
   "id": "b38114f9-fb8a-43ab-af54-715edb72a463",
   "metadata": {},
   "outputs": [],
   "source": [
    "test_ScanCount_feature_responseCoding.shape"
   ]
  },
  {
   "cell_type": "code",
   "execution_count": null,
   "id": "e4d95127-4a7b-4cac-9b92-47f038f4b7ae",
   "metadata": {},
   "outputs": [],
   "source": [
    "cv_ScanCount_feature_responseCoding.shape"
   ]
  },
  {
   "cell_type": "markdown",
   "id": "2fa84e28-e8d2-46a1-8970-77c6c41ea075",
   "metadata": {},
   "source": [
    "#response encoding 'FinelineCat'"
   ]
  },
  {
   "cell_type": "code",
   "execution_count": null,
   "id": "95b76007-b4d2-4fce-a69c-40815d9745ef",
   "metadata": {},
   "outputs": [],
   "source": [
    "df_trip_train.FinelineNumber.nunique()"
   ]
  },
  {
   "cell_type": "code",
   "execution_count": null,
   "id": "f538cafb-4b2f-4145-a22b-0e42edf8525b",
   "metadata": {},
   "outputs": [],
   "source": [
    "df_trip_train.FinelineNumber"
   ]
  },
  {
   "cell_type": "code",
   "execution_count": null,
   "id": "5f46d33e-4a61-4e13-b160-e34590917501",
   "metadata": {},
   "outputs": [],
   "source": [
    "df_trip_train['FinelineCat']=pd.cut(df_trip_train['FinelineNumber'],bins=50,labels=False)"
   ]
  },
  {
   "cell_type": "code",
   "execution_count": null,
   "id": "e4dd32d1-d5d3-4247-b458-78da802beed0",
   "metadata": {},
   "outputs": [],
   "source": [
    "plt.figure(figsize=(9,6))\n",
    "sns.distplot(pd_trip_train['FinelineCat'])"
   ]
  },
  {
   "cell_type": "code",
   "execution_count": null,
   "id": "e9a33174-ef16-41ed-aac8-509c3882c5ce",
   "metadata": {},
   "outputs": [],
   "source": [
    "plt.figure(figsize=(20,8))\n",
    "sns.boxplot(x='TripType',y='FinelineCat',data=df_trip_train)"
   ]
  },
  {
   "cell_type": "code",
   "execution_count": null,
   "id": "fbd8c161-1726-4763-ac76-ac80183bc3e5",
   "metadata": {},
   "outputs": [],
   "source": [
    "df_trip_train.info()"
   ]
  },
  {
   "cell_type": "code",
   "execution_count": null,
   "id": "2c2baee6-25e2-4cf6-b6e2-1c4060b46cdc",
   "metadata": {},
   "outputs": [],
   "source": []
  }
 ],
 "metadata": {
  "kernelspec": {
   "display_name": "Python 3",
   "language": "python",
   "name": "python3"
  },
  "language_info": {
   "codemirror_mode": {
    "name": "ipython",
    "version": 3
   },
   "file_extension": ".py",
   "mimetype": "text/x-python",
   "name": "python",
   "nbconvert_exporter": "python",
   "pygments_lexer": "ipython3",
   "version": "3.8.8"
  }
 },
 "nbformat": 4,
 "nbformat_minor": 5
}
