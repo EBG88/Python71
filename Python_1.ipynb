{
 "cells": [
  {
   "cell_type": "markdown",
   "id": "66b271c9-04c4-4da6-ae7b-167c29a8a2d2",
   "metadata": {},
   "source": [
    "#Basic Python"
   ]
  },
  {
   "cell_type": "markdown",
   "id": "641c8e78-eef0-4550-8faf-31b0c7124245",
   "metadata": {},
   "source": [
    "#Integer"
   ]
  },
  {
   "cell_type": "code",
   "execution_count": 5,
   "id": "f1117d2a",
   "metadata": {},
   "outputs": [
    {
     "name": "stdout",
     "output_type": "stream",
     "text": [
      "12349\n"
     ]
    }
   ],
   "source": [
    "print (12345+4) #integer"
   ]
  },
  {
   "cell_type": "markdown",
   "id": "a18466c0",
   "metadata": {},
   "source": [
    "#Basic Python"
   ]
  },
  {
   "cell_type": "markdown",
   "id": "f5d91960",
   "metadata": {},
   "source": [
    "Floating"
   ]
  },
  {
   "cell_type": "code",
   "execution_count": 3,
   "id": "c2fe142e-b59b-4c0a-9897-7ee6a15eaae0",
   "metadata": {},
   "outputs": [
    {
     "name": "stdout",
     "output_type": "stream",
     "text": [
      "4.3\n"
     ]
    }
   ],
   "source": [
    "print(4.3)"
   ]
  },
  {
   "cell_type": "markdown",
   "id": "67f740fd",
   "metadata": {},
   "source": [
    "# Strings"
   ]
  },
  {
   "cell_type": "code",
   "execution_count": 8,
   "id": "c1f22347",
   "metadata": {},
   "outputs": [
    {
     "name": "stdout",
     "output_type": "stream",
     "text": [
      "Ganteng\n"
     ]
    }
   ],
   "source": [
    "print (\"Ganteng\")"
   ]
  },
  {
   "cell_type": "code",
   "execution_count": 9,
   "id": "8f9decaa",
   "metadata": {},
   "outputs": [
    {
     "name": "stdout",
     "output_type": "stream",
     "text": [
      "As1k48\n"
     ]
    }
   ],
   "source": [
    "print('As1k48')"
   ]
  },
  {
   "cell_type": "code",
   "execution_count": 10,
   "id": "a30d4359",
   "metadata": {},
   "outputs": [
    {
     "name": "stdout",
     "output_type": "stream",
     "text": [
      "<class 'str'>\n"
     ]
    }
   ],
   "source": [
    "print(type('As1k48'))"
   ]
  },
  {
   "cell_type": "markdown",
   "id": "7ad85a9a",
   "metadata": {},
   "source": [
    "# Boolean"
   ]
  },
  {
   "cell_type": "markdown",
   "id": "11dc9a95",
   "metadata": {},
   "source": [
    "ya dan tidak , true or false"
   ]
  },
  {
   "cell_type": "code",
   "execution_count": 12,
   "id": "68521f69",
   "metadata": {},
   "outputs": [
    {
     "name": "stdout",
     "output_type": "stream",
     "text": [
      "<class 'bool'>\n"
     ]
    }
   ],
   "source": [
    "print(type(True))"
   ]
  },
  {
   "cell_type": "code",
   "execution_count": 13,
   "id": "ddbb94fa",
   "metadata": {},
   "outputs": [
    {
     "data": {
      "text/plain": [
       "True"
      ]
     },
     "execution_count": 13,
     "metadata": {},
     "output_type": "execute_result"
    }
   ],
   "source": [
    "bool(20)"
   ]
  },
  {
   "cell_type": "code",
   "execution_count": 15,
   "id": "ae43c5d4",
   "metadata": {},
   "outputs": [
    {
     "name": "stdout",
     "output_type": "stream",
     "text": [
      "5\n"
     ]
    }
   ],
   "source": [
    "a=2\n",
    "b=3\n",
    "print(a+b)"
   ]
  },
  {
   "cell_type": "code",
   "execution_count": 18,
   "id": "2dcdd1b3",
   "metadata": {},
   "outputs": [
    {
     "name": "stdout",
     "output_type": "stream",
     "text": [
      "True\n",
      "True\n",
      "True\n",
      "False\n",
      "False\n"
     ]
    }
   ],
   "source": [
    "a=20\n",
    "b=20\n",
    "print(a>=b)\n",
    "print(a==b)\n",
    "print(a>=b)\n",
    "print(a!=b)\n",
    "print(a>b)"
   ]
  },
  {
   "cell_type": "markdown",
   "id": "c6b30239",
   "metadata": {},
   "source": [
    "# String manipulation"
   ]
  },
  {
   "cell_type": "code",
   "execution_count": 9,
   "id": "8fcaccd2-3ab5-4e2b-a2c8-4767dbf7c5cc",
   "metadata": {},
   "outputs": [
    {
     "name": "stdout",
     "output_type": "stream",
     "text": [
      "aku sayang kamu\n"
     ]
    }
   ],
   "source": [
    "sayang = \"aku sayang kamu\"\n",
    "print (sayang)"
   ]
  },
  {
   "cell_type": "code",
   "execution_count": 11,
   "id": "11662dbd-e50b-4234-971a-fdb312760c1f",
   "metadata": {},
   "outputs": [
    {
     "name": "stdout",
     "output_type": "stream",
     "text": [
      "<class 'str'>\n",
      "15\n"
     ]
    }
   ],
   "source": [
    "print(type(sayang))\n",
    "print (len(sayang))"
   ]
  },
  {
   "cell_type": "code",
   "execution_count": 16,
   "id": "d917f59c-fb81-45c2-86fc-09bde09f0b2c",
   "metadata": {},
   "outputs": [
    {
     "name": "stdout",
     "output_type": "stream",
     "text": [
      "aku sayang kamu bebeb\n",
      "aku sayang kamu bebeb aku sayang kamu bebeb aku sayang kamu bebeb aku sayang kamu bebeb aku sayang kamu bebeb \n",
      "aku sayang kamu, \n",
      "aku sayang kamu, \n",
      "aku sayang kamu, \n",
      "aku sayang kamu, \n",
      "aku sayang kamu, \n",
      "\n"
     ]
    }
   ],
   "source": [
    "print(sayang + \" bebeb\")\n",
    "print ((sayang+ \" bebeb \")* 5)\n",
    "print ((sayang+\", \\n\")*5)"
   ]
  },
  {
   "cell_type": "code",
   "execution_count": 17,
   "id": "b0628f77-9529-4514-939f-e0070667b533",
   "metadata": {},
   "outputs": [
    {
     "data": {
      "text/plain": [
       "True"
      ]
     },
     "execution_count": 17,
     "metadata": {},
     "output_type": "execute_result"
    }
   ],
   "source": [
    "\"kamu\" in sayang"
   ]
  },
  {
   "cell_type": "markdown",
   "id": "1ef53526-a19a-4a94-b154-701f4de75cbb",
   "metadata": {},
   "source": [
    "# Konversi Case String"
   ]
  },
  {
   "cell_type": "code",
   "execution_count": 20,
   "id": "2f4d2de1-19b5-431c-8848-13c3e4e9259e",
   "metadata": {},
   "outputs": [
    {
     "name": "stdout",
     "output_type": "stream",
     "text": [
      "aku Sayang kamu 3000 lebih\n"
     ]
    }
   ],
   "source": [
    "sayang = \"aku Sayang kamu 3000 lebih\"\n",
    "print(sayang)"
   ]
  },
  {
   "cell_type": "code",
   "execution_count": 21,
   "id": "06e35eb2",
   "metadata": {},
   "outputs": [
    {
     "name": "stdout",
     "output_type": "stream",
     "text": [
      "AKU SAYANG KAMU 3000 LEBIH\n"
     ]
    }
   ],
   "source": [
    "print(sayang.upper())"
   ]
  },
  {
   "cell_type": "code",
   "execution_count": 22,
   "id": "cdc2a7a3",
   "metadata": {},
   "outputs": [
    {
     "name": "stdout",
     "output_type": "stream",
     "text": [
      "aku sayang kamu 3000 lebih\n",
      "Aku Sayang Kamu 3000 Lebih\n",
      "Aku sayang kamu 3000 lebih\n",
      "AKU sAYANG KAMU 3000 LEBIH\n"
     ]
    }
   ],
   "source": [
    "print(sayang.lower())\n",
    "print(sayang.title())\n",
    "print(sayang.capitalize())\n",
    "print(sayang.swapcase())"
   ]
  },
  {
   "cell_type": "code",
   "execution_count": 23,
   "id": "3ef24aca",
   "metadata": {},
   "outputs": [
    {
     "data": {
      "text/plain": [
       "True"
      ]
     },
     "execution_count": 23,
     "metadata": {},
     "output_type": "execute_result"
    }
   ],
   "source": [
    "\"AKU\".upper() in sayang.upper()"
   ]
  },
  {
   "cell_type": "markdown",
   "id": "0a715a0c-6b76-4763-b98a-73e1dac005f0",
   "metadata": {},
   "source": [
    "# LIST"
   ]
  },
  {
   "cell_type": "code",
   "execution_count": 24,
   "id": "07a4c33f",
   "metadata": {},
   "outputs": [
    {
     "name": "stdout",
     "output_type": "stream",
     "text": [
      "['Honda', 'Yamaha', 'Suzuki', 'Pulsar']\n",
      "<class 'list'>\n"
     ]
    }
   ],
   "source": [
    "list_motor = ['Honda','Yamaha','Suzuki','Pulsar']\n",
    "print (list_motor)\n",
    "print(type(list_motor))"
   ]
  },
  {
   "cell_type": "code",
   "execution_count": 26,
   "id": "3a66dd57",
   "metadata": {},
   "outputs": [
    {
     "name": "stdout",
     "output_type": "stream",
     "text": [
      "Honda\n"
     ]
    }
   ],
   "source": [
    "motor = list_motor [0]\n",
    "print(motor)"
   ]
  },
  {
   "cell_type": "code",
   "execution_count": 27,
   "id": "9f66053b-de70-4107-a49a-9cf9cbea534a",
   "metadata": {},
   "outputs": [
    {
     "name": "stdout",
     "output_type": "stream",
     "text": [
      "Suzuki\n"
     ]
    }
   ],
   "source": [
    "motor = list_motor [-2]\n",
    "print(motor)"
   ]
  },
  {
   "cell_type": "markdown",
   "id": "50161aa9-fe36-44a1-bb6c-1d4d86c35ea2",
   "metadata": {},
   "source": [
    "# Slicing\n",
    "mengambil beberapa item dalam list"
   ]
  },
  {
   "cell_type": "code",
   "execution_count": 30,
   "id": "f42f58f0-78fa-434c-b222-f55370cc243f",
   "metadata": {},
   "outputs": [
    {
     "name": "stdout",
     "output_type": "stream",
     "text": [
      "['Honda', 'Yamaha']\n"
     ]
    }
   ],
   "source": [
    "motor2 = list_motor [0:2]\n",
    "print(motor2)"
   ]
  },
  {
   "cell_type": "code",
   "execution_count": 31,
   "id": "233e9620-1778-4cd5-9ccc-90e56e35987c",
   "metadata": {},
   "outputs": [
    {
     "name": "stdout",
     "output_type": "stream",
     "text": [
      "['Suzuki', 'Pulsar']\n"
     ]
    }
   ],
   "source": [
    "motor2=list_motor [-2:]\n",
    "print (motor2)"
   ]
  },
  {
   "cell_type": "code",
   "execution_count": 32,
   "id": "6ce7811e-b92b-4b87-81f5-8a028ad7d0d5",
   "metadata": {},
   "outputs": [
    {
     "name": "stdout",
     "output_type": "stream",
     "text": [
      "['Pulsar']\n"
     ]
    }
   ],
   "source": [
    "motor2=list_motor [-1:]\n",
    "print (motor2)"
   ]
  },
  {
   "cell_type": "code",
   "execution_count": 33,
   "id": "b2eb9bf0-6774-49f3-a16b-72a17a101480",
   "metadata": {},
   "outputs": [
    {
     "name": "stdout",
     "output_type": "stream",
     "text": [
      "['Honda', 'Yamaha', 'Suzuki', 'Pulsar']\n"
     ]
    }
   ],
   "source": [
    "motor2=list_motor[:]\n",
    "print(motor2)"
   ]
  },
  {
   "cell_type": "markdown",
   "id": "673a7d01-b6d5-42f3-993f-b48c1412e2e1",
   "metadata": {},
   "source": [
    "# Tambah + dan*"
   ]
  },
  {
   "cell_type": "code",
   "execution_count": 35,
   "id": "decd0c34-ff01-41c8-ba09-1d114684b0dc",
   "metadata": {},
   "outputs": [
    {
     "name": "stdout",
     "output_type": "stream",
     "text": [
      "['Honda', 'Yamaha', 'Suzuki', 'Pulsar', 'bajaj', 'vespa']\n"
     ]
    }
   ],
   "source": [
    "print(list_motor + ['bajaj','vespa'])"
   ]
  },
  {
   "cell_type": "markdown",
   "id": "8f7b4c8a-afb0-4d91-811a-187d24a546eb",
   "metadata": {},
   "source": [
    "# len min max"
   ]
  },
  {
   "cell_type": "code",
   "execution_count": 36,
   "id": "cb94e813-a23f-4ab5-ac77-09422b4f63e7",
   "metadata": {},
   "outputs": [
    {
     "name": "stdout",
     "output_type": "stream",
     "text": [
      "4\n",
      "Honda\n",
      "Yamaha\n"
     ]
    }
   ],
   "source": [
    "print(len(list_motor))\n",
    "print(min(list_motor))\n",
    "print(max(list_motor))"
   ]
  },
  {
   "cell_type": "code",
   "execution_count": 37,
   "id": "cfcb42a4-b067-40ae-938b-f795cb901286",
   "metadata": {},
   "outputs": [
    {
     "name": "stdout",
     "output_type": "stream",
     "text": [
      "[12, 4.3, 0.21, 400]\n",
      "4\n",
      "400\n",
      "0.21\n"
     ]
    }
   ],
   "source": [
    "list_angka =[12,4.3,0.21,400]\n",
    "print(list_angka)\n",
    "print(len(list_angka))\n",
    "print(max(list_angka))\n",
    "print(min(list_angka))"
   ]
  },
  {
   "cell_type": "markdown",
   "id": "b4354d9c-6c36-461a-bc16-864ca46c82f4",
   "metadata": {},
   "source": [
    "# ubah item list"
   ]
  },
  {
   "cell_type": "code",
   "execution_count": 38,
   "id": "9a8647a5-a716-493a-ac34-e31b751e256c",
   "metadata": {},
   "outputs": [
    {
     "name": "stdout",
     "output_type": "stream",
     "text": [
      "['Honda', 'Yamaha', 'Suzuki', 'Pulsar']\n"
     ]
    }
   ],
   "source": [
    "print(list_motor)"
   ]
  },
  {
   "cell_type": "markdown",
   "id": "d67f6f8f-e771-4afc-b3f0-49327b349e21",
   "metadata": {},
   "source": [
    "ubah Honda jadi Vespa"
   ]
  },
  {
   "cell_type": "code",
   "execution_count": 40,
   "id": "57f07c06-32a8-43d4-a0b3-9aedc74a3896",
   "metadata": {},
   "outputs": [
    {
     "name": "stdout",
     "output_type": "stream",
     "text": [
      "['Vespa', 'Yamaha', 'Suzuki', 'Pulsar']\n"
     ]
    }
   ],
   "source": [
    "list_motor [0] = \"Vespa\"\n",
    "print(list_motor)"
   ]
  },
  {
   "cell_type": "markdown",
   "id": "cdfeb97b-16e9-4dc4-aaa0-7df520c8f12f",
   "metadata": {},
   "source": [
    "ubah yamaha, suzuki jadi Viar dan Kawasaki"
   ]
  },
  {
   "cell_type": "code",
   "execution_count": 41,
   "id": "5c89e548-794a-4a14-af7c-b3cc0811723d",
   "metadata": {},
   "outputs": [
    {
     "name": "stdout",
     "output_type": "stream",
     "text": [
      "['Vespa', 'Viar', 'Kawasaki', 'Pulsar']\n"
     ]
    }
   ],
   "source": [
    "list_motor [1:3] = [\"Viar\", \"Kawasaki\"]\n",
    "print(list_motor)"
   ]
  },
  {
   "cell_type": "markdown",
   "id": "a797f740-672a-4068-8ee5-5cfae3d708f8",
   "metadata": {},
   "source": [
    "# Append dan Remove"
   ]
  },
  {
   "cell_type": "code",
   "execution_count": 43,
   "id": "f2dcd08a-7742-4796-97bd-daa4eb0cdcf0",
   "metadata": {},
   "outputs": [
    {
     "name": "stdout",
     "output_type": "stream",
     "text": [
      "['Vespa', 'Viar', 'Kawasaki', 'Pulsar', 'Honda']\n"
     ]
    }
   ],
   "source": [
    "list_motor.append(\"Honda\")\n",
    "print (list_motor)"
   ]
  },
  {
   "cell_type": "code",
   "execution_count": 45,
   "id": "1da75248-a5c1-4f76-88aa-04b161cfb475",
   "metadata": {},
   "outputs": [
    {
     "name": "stdout",
     "output_type": "stream",
     "text": [
      "['Vespa', 'Kawasaki', 'Pulsar', 'Honda']\n"
     ]
    }
   ],
   "source": [
    "list_motor.remove(\"Viar\")\n",
    "print (list_motor)"
   ]
  },
  {
   "cell_type": "code",
   "execution_count": 46,
   "id": "27c99421-96cb-49c8-b2b3-2f8b58bf0c31",
   "metadata": {},
   "outputs": [
    {
     "name": "stdout",
     "output_type": "stream",
     "text": [
      "['Vespa', 'Kawasaki', 'Pulsar', 'Honda', 'Viar']\n"
     ]
    }
   ],
   "source": [
    "list_motor = list_motor + [\"Viar\"]\n",
    "print (list_motor)"
   ]
  },
  {
   "cell_type": "code",
   "execution_count": 50,
   "id": "4212b507-76ce-4355-8161-8b871fcba803",
   "metadata": {},
   "outputs": [
    {
     "name": "stdout",
     "output_type": "stream",
     "text": [
      "['Vespa', 'Kawasaki', 'Pulsar', 'Honda', 'Viar', 'Vespa', 'Kawasaki', 'Pulsar', 'Honda', 'Viar']\n"
     ]
    }
   ],
   "source": [
    "list_motor = list_motor * 2\n",
    "print (list_motor)"
   ]
  },
  {
   "cell_type": "code",
   "execution_count": 52,
   "id": "d8e485e8-4554-4b12-8505-1352b1b68c3c",
   "metadata": {},
   "outputs": [
    {
     "name": "stdout",
     "output_type": "stream",
     "text": [
      "['Vespa', 'Kawasaki', 'Pulsar', 'Honda']\n"
     ]
    }
   ],
   "source": [
    "list_motor = [\"Vespa\",\"Kawasaki\",\"Pulsar\",\"Honda\"]\n",
    "print(list_motor)"
   ]
  },
  {
   "cell_type": "markdown",
   "id": "7ed4f15f-2b5b-4b70-94b8-92dae60a958d",
   "metadata": {},
   "source": [
    "operator in pada list"
   ]
  },
  {
   "cell_type": "code",
   "execution_count": 53,
   "id": "991ba5dd-e3d6-4502-a996-fbd1dd4e1c23",
   "metadata": {},
   "outputs": [
    {
     "data": {
      "text/plain": [
       "True"
      ]
     },
     "execution_count": 53,
     "metadata": {},
     "output_type": "execute_result"
    }
   ],
   "source": [
    "\"Vespa\" in list_motor"
   ]
  },
  {
   "cell_type": "code",
   "execution_count": 54,
   "id": "f3a48f40-fd34-45c6-8c1e-9242a199dd3f",
   "metadata": {},
   "outputs": [
    {
     "data": {
      "text/plain": [
       "False"
      ]
     },
     "execution_count": 54,
     "metadata": {},
     "output_type": "execute_result"
    }
   ],
   "source": [
    "\"Suzuki\" in list_motor"
   ]
  },
  {
   "cell_type": "markdown",
   "id": "f915fb67-56b3-4692-9600-7775be12f984",
   "metadata": {},
   "source": [
    "#tipe data dalam List random"
   ]
  },
  {
   "cell_type": "code",
   "execution_count": 56,
   "id": "230fdc57-f0ec-4951-a892-9417782e3674",
   "metadata": {},
   "outputs": [
    {
     "name": "stdout",
     "output_type": "stream",
     "text": [
      "['Suzuki', 123, 45.2, True, [1, 2, 'Kecap']]\n"
     ]
    }
   ],
   "source": [
    "list_random =[\"Suzuki\",123,45.2,True,[1,2,\"Kecap\"]]\n",
    "print(list_random)"
   ]
  },
  {
   "cell_type": "markdown",
   "id": "32c70995-0876-4921-b64b-e1b97cb59ab0",
   "metadata": {},
   "source": [
    "# TUPLE"
   ]
  },
  {
   "cell_type": "code",
   "execution_count": 57,
   "id": "1a65834c-0698-4d36-a4b5-2357b757a8b2",
   "metadata": {},
   "outputs": [
    {
     "name": "stdout",
     "output_type": "stream",
     "text": [
      "(400, 550, 600, 350)\n",
      "<class 'tuple'>\n"
     ]
    }
   ],
   "source": [
    "nilai_toefl =(400,550,600,350)\n",
    "print(nilai_toefl)\n",
    "print(type(nilai_toefl))"
   ]
  },
  {
   "cell_type": "code",
   "execution_count": 58,
   "id": "43d0fac1-c6e4-45b1-ad8a-8623f52693c4",
   "metadata": {},
   "outputs": [
    {
     "data": {
      "text/plain": [
       "(400, 550, 600, 350, 610)"
      ]
     },
     "execution_count": 58,
     "metadata": {},
     "output_type": "execute_result"
    }
   ],
   "source": [
    "tuple(list(nilai_toefl)+[610])"
   ]
  },
  {
   "cell_type": "code",
   "execution_count": 59,
   "id": "c5c8e52b-b1ff-4f12-b82d-21f1e87c1eb2",
   "metadata": {},
   "outputs": [
    {
     "name": "stdout",
     "output_type": "stream",
     "text": [
      "(400, 550, 600, 350)\n"
     ]
    }
   ],
   "source": [
    "print(nilai_toefl)"
   ]
  },
  {
   "cell_type": "code",
   "execution_count": 60,
   "id": "81f5f2cc-4766-47e3-98db-e7a963d8f514",
   "metadata": {},
   "outputs": [
    {
     "name": "stdout",
     "output_type": "stream",
     "text": [
      "1200\n"
     ]
    }
   ],
   "source": [
    "nilai_ery =nilai_toefl[0]\n",
    "print(nilai_ery* 3)"
   ]
  },
  {
   "cell_type": "code",
   "execution_count": 61,
   "id": "11de09d5-5724-434c-8507-348381c97f93",
   "metadata": {},
   "outputs": [
    {
     "name": "stdout",
     "output_type": "stream",
     "text": [
      "400\n"
     ]
    }
   ],
   "source": [
    "print(nilai_ery)"
   ]
  },
  {
   "cell_type": "markdown",
   "id": "bdc6b822-d340-4754-8135-e990f5d14130",
   "metadata": {},
   "source": [
    "# Packing & Unpacking di List dan Tuple"
   ]
  },
  {
   "cell_type": "code",
   "execution_count": 62,
   "id": "ccbe21de-b36d-4ffc-88b6-aa4a4f15e838",
   "metadata": {},
   "outputs": [
    {
     "name": "stdout",
     "output_type": "stream",
     "text": [
      "['Vespa', 'Kawasaki', 'Pulsar', 'Honda']\n"
     ]
    }
   ],
   "source": [
    "print(list_motor)"
   ]
  },
  {
   "cell_type": "code",
   "execution_count": 65,
   "id": "1b170592-8254-4bf8-a319-6ddf55116c6e",
   "metadata": {},
   "outputs": [
    {
     "name": "stdout",
     "output_type": "stream",
     "text": [
      "Vespa\n",
      "Kawasaki\n",
      "Pulsar\n",
      "Honda\n"
     ]
    }
   ],
   "source": [
    "a,b,c,d = list_motor\n",
    "print(a)\n",
    "print(b)\n",
    "print(c)\n",
    "print(d)"
   ]
  },
  {
   "cell_type": "code",
   "execution_count": 66,
   "id": "25892608-3b66-4230-8d9f-5d6058e6411d",
   "metadata": {},
   "outputs": [
    {
     "name": "stdout",
     "output_type": "stream",
     "text": [
      "400\n",
      "550\n",
      "600\n",
      "350\n"
     ]
    }
   ],
   "source": [
    "mama,papa,nenek,kakek =nilai_toefl\n",
    "print(mama)\n",
    "print(papa)\n",
    "print(nenek)\n",
    "print(kakek)"
   ]
  },
  {
   "cell_type": "markdown",
   "id": "03a3b442-c655-4fc6-ba52-cd3dce8fa309",
   "metadata": {},
   "source": [
    "# Dictionary"
   ]
  },
  {
   "cell_type": "code",
   "execution_count": 67,
   "id": "fbde4073-be1d-4f9e-8845-5369f863bf3d",
   "metadata": {},
   "outputs": [
    {
     "name": "stdout",
     "output_type": "stream",
     "text": [
      "{'Nama Lengkap': 'Masdhira Dharana', 'Usia': '30', 'Jenjang Studi': 'Magister', 'Universitas Tujuan': 'University of Melbourne', 'Hobi': ['Membaca', 'Olahraga', 'Memasak']}\n",
      "<class 'dict'>\n"
     ]
    }
   ],
   "source": [
    "Dhira = {\"Nama Lengkap\" : \"Masdhira Dharana\",\n",
    "        \"Usia\": \"30\",\n",
    "        \"Jenjang Studi\": \"Magister\",\n",
    "        \"Universitas Tujuan\": \"University of Melbourne\",\n",
    "       \"Hobi\": [\"Membaca\", \"Olahraga\", \"Memasak\"] }\n",
    "print(Dhira)\n",
    "print(type(Dhira))\n"
   ]
  },
  {
   "cell_type": "code",
   "execution_count": 69,
   "id": "c1f9a538-df28-4465-ae58-ff963355e1fc",
   "metadata": {},
   "outputs": [
    {
     "data": {
      "text/plain": [
       "['Membaca', 'Olahraga', 'Memasak']"
      ]
     },
     "execution_count": 69,
     "metadata": {},
     "output_type": "execute_result"
    }
   ],
   "source": [
    "Dhira[\"Jenjang Studi\"]\n",
    "Dhira[\"Hobi\"]"
   ]
  },
  {
   "cell_type": "code",
   "execution_count": 70,
   "id": "caecf2cd-9eb0-4048-83e6-144771f097e0",
   "metadata": {},
   "outputs": [
    {
     "data": {
      "text/plain": [
       "'Magister'"
      ]
     },
     "execution_count": 70,
     "metadata": {},
     "output_type": "execute_result"
    }
   ],
   "source": [
    "Dhira[\"Jenjang Studi\"]\n"
   ]
  },
  {
   "cell_type": "code",
   "execution_count": 71,
   "id": "bf52bc4b-b033-4da5-b9b3-b567a58465da",
   "metadata": {},
   "outputs": [
    {
     "name": "stdout",
     "output_type": "stream",
     "text": [
      "{'Nama Lengkap': 'Masdhira Dharana', 'Usia': '30', 'Jenjang Studi': 'Doktoral', 'Universitas Tujuan': 'University of Melbourne', 'Hobi': ['Membaca', 'Olahraga', 'Memasak']}\n"
     ]
    }
   ],
   "source": [
    "Dhira[\"Jenjang Studi\"]=\"Doktoral\"\n",
    "print(Dhira)"
   ]
  },
  {
   "cell_type": "code",
   "execution_count": 73,
   "id": "38563e14-a650-418b-8867-43fea5af5732",
   "metadata": {},
   "outputs": [
    {
     "name": "stdout",
     "output_type": "stream",
     "text": [
      "{'Nama Lengkap': 'Masdhira Dharana', 'Usia': '30', 'Jenjang Studi': 'Doktoral', 'Universitas Tujuan': 'University of Melbourne', 'Hobi': ['Membaca', 'Olahraga', 'Memasak'], 'No_Induk': 2022023030}\n"
     ]
    }
   ],
   "source": [
    "Dhira['No_Induk']=2022023030\n",
    "print(Dhira)"
   ]
  },
  {
   "cell_type": "code",
   "execution_count": 75,
   "id": "38425767-45c9-4194-9706-f9fdac92affa",
   "metadata": {},
   "outputs": [
    {
     "data": {
      "text/plain": [
       "dict_keys(['Nama Lengkap', 'Usia', 'Jenjang Studi', 'Universitas Tujuan', 'Hobi', 'No_Induk'])"
      ]
     },
     "execution_count": 75,
     "metadata": {},
     "output_type": "execute_result"
    }
   ],
   "source": [
    "Dhira.keys()"
   ]
  },
  {
   "cell_type": "code",
   "execution_count": 76,
   "id": "21b1c383-d3d7-4f67-b740-3c2b66014277",
   "metadata": {},
   "outputs": [
    {
     "data": {
      "text/plain": [
       "dict_values(['Masdhira Dharana', '30', 'Doktoral', 'University of Melbourne', ['Membaca', 'Olahraga', 'Memasak'], 2022023030])"
      ]
     },
     "execution_count": 76,
     "metadata": {},
     "output_type": "execute_result"
    }
   ],
   "source": [
    "Dhira.values()"
   ]
  },
  {
   "cell_type": "code",
   "execution_count": 77,
   "id": "15da41da-c6c4-42fc-8753-1803d157e6a6",
   "metadata": {},
   "outputs": [
    {
     "name": "stdout",
     "output_type": "stream",
     "text": [
      "dict_items([('Nama Lengkap', 'Masdhira Dharana'), ('Usia', '30'), ('Jenjang Studi', 'Doktoral'), ('Universitas Tujuan', 'University of Melbourne'), ('Hobi', ['Membaca', 'Olahraga', 'Memasak']), ('No_Induk', 2022023030)])\n"
     ]
    }
   ],
   "source": [
    "print(Dhira.items())"
   ]
  },
  {
   "cell_type": "code",
   "execution_count": 78,
   "id": "9177ba35-984d-4c5e-a094-5ae1e72f196d",
   "metadata": {},
   "outputs": [
    {
     "data": {
      "text/plain": [
       "6"
      ]
     },
     "execution_count": 78,
     "metadata": {},
     "output_type": "execute_result"
    }
   ],
   "source": [
    "len(Dhira)"
   ]
  },
  {
   "cell_type": "code",
   "execution_count": null,
   "id": "bb42bace-d738-4f6d-9f1b-3285560821c9",
   "metadata": {},
   "outputs": [],
   "source": []
  }
 ],
 "metadata": {
  "kernelspec": {
   "display_name": "Python 3",
   "language": "python",
   "name": "python3"
  },
  "language_info": {
   "codemirror_mode": {
    "name": "ipython",
    "version": 3
   },
   "file_extension": ".py",
   "mimetype": "text/x-python",
   "name": "python",
   "nbconvert_exporter": "python",
   "pygments_lexer": "ipython3",
   "version": "3.8.8"
  }
 },
 "nbformat": 4,
 "nbformat_minor": 5
}
