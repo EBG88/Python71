{
 "cells": [
  {
   "cell_type": "code",
   "execution_count": 4,
   "id": "93693567-dc32-433b-baca-206fc76c938a",
   "metadata": {},
   "outputs": [
    {
     "name": "stdout",
     "output_type": "stream",
     "text": [
      "Bos pasti benar\n",
      "Bos tidak pernah salah\n",
      "jika bos salah ingat pesan ibu\n",
      "Bos emang salah\n"
     ]
    }
   ],
   "source": [
    "if 'bis' in ['bos','bis','bas']:\n",
    "    print('Bos pasti benar')\n",
    "    print('Bos tidak pernah salah')\n",
    "    print('jika bos salah ingat pesan ibu')\n",
    "    \n",
    "print ('Bos emang salah')"
   ]
  },
  {
   "cell_type": "code",
   "execution_count": 6,
   "id": "1b47b121-16b9-4201-a297-03c339bb2f58",
   "metadata": {},
   "outputs": [
    {
     "name": "stdout",
     "output_type": "stream",
     "text": [
      "['Honda', 'Suzuki', 'Yamaha', 'Pulsar']\n"
     ]
    }
   ],
   "source": [
    "list_motor =[\"Honda\",\"Suzuki\",\"Yamaha\",\"Pulsar\"]\n",
    "print(list_motor)"
   ]
  },
  {
   "cell_type": "code",
   "execution_count": 7,
   "id": "c0b302fb-4190-4544-ab15-5559bf775359",
   "metadata": {},
   "outputs": [
    {
     "name": "stdout",
     "output_type": "stream",
     "text": [
      "kita beli itu motor\n"
     ]
    }
   ],
   "source": [
    "if(\"Honda\" in list_motor):\n",
    "    print(\"kita beli itu motor\")"
   ]
  },
  {
   "cell_type": "code",
   "execution_count": 9,
   "id": "c9bdabf1-7164-4704-a041-0a65f9af4f1d",
   "metadata": {},
   "outputs": [
    {
     "name": "stdout",
     "output_type": "stream",
     "text": [
      "20\n"
     ]
    }
   ],
   "source": [
    "a = 20\n",
    "if (a):\n",
    "    print(a)"
   ]
  },
  {
   "cell_type": "markdown",
   "id": "353f6407-338c-4878-acd5-01e59b3468c9",
   "metadata": {},
   "source": [
    "# ELSE"
   ]
  },
  {
   "cell_type": "code",
   "execution_count": 12,
   "id": "be5bb957-d6e3-445e-9b54-4c3315a14df7",
   "metadata": {},
   "outputs": [
    {
     "name": "stdout",
     "output_type": "stream",
     "text": [
      "uang cukup, bisa beli\n",
      "sisa uang 150000\n"
     ]
    }
   ],
   "source": [
    "uang = 200000\n",
    "harga = 50000\n",
    "if (uang>=harga):\n",
    "    print(\"uang cukup, bisa beli\")\n",
    "    sisa = uang-harga\n",
    "    print (\"sisa uang\", sisa)\n",
    "else:\n",
    "    print (\"uang tidak cukup gaes\")\n",
    "    sisa = harga - uang\n",
    "    print(\"kurang\",sisa)"
   ]
  },
  {
   "cell_type": "markdown",
   "id": "fe5925f8-0e4b-4acb-b376-eb57ca3d1eaf",
   "metadata": {},
   "source": [
    "# elif"
   ]
  },
  {
   "cell_type": "code",
   "execution_count": 20,
   "id": "d55d7f24-e92d-49d4-8014-6b4f3748100c",
   "metadata": {},
   "outputs": [
    {
     "name": "stdout",
     "output_type": "stream",
     "text": [
      "uang tidak cukup umur tidak memenuhi\n"
     ]
    }
   ],
   "source": [
    "saldo = 2000\n",
    "harga = 50000\n",
    "umur = 16\n",
    "if (saldo>=harga)&(umur>=17):\n",
    "    print(\"uang cukup\" , \"umur memenuhi\")\n",
    "elif (saldo<harga)&(umur>=17):\n",
    "    print(\"uang tidak cukup\" , \"umur memenuhi\")\n",
    "elif (saldo>=harga)&(umur<17):\n",
    "    print(\"uang cukup\" , \"umur tidak memenuhi\")\n",
    "else:\n",
    "    print (\"uang tidak cukup\" , \"umur tidak memenuhi\")\n",
    "    "
   ]
  },
  {
   "cell_type": "code",
   "execution_count": null,
   "id": "5c2984c5-5902-4b1c-b5e8-98d8bfbc5792",
   "metadata": {},
   "outputs": [],
   "source": [
    "nilai = 20\n",
    "if (nilai >=95):\n",
    "    print (\"Grade A\")\n",
    "elif ()"
   ]
  },
  {
   "cell_type": "code",
   "execution_count": 23,
   "id": "00127b69-6f24-4695-afb1-97eade48d8d9",
   "metadata": {},
   "outputs": [
    {
     "name": "stdout",
     "output_type": "stream",
     "text": [
      "Anda bisa naik roller coster\n"
     ]
    }
   ],
   "source": [
    "tinggi = 120\n",
    "uang = 30000\n",
    "if (tinggi>=120)&(uang>=30000):\n",
    "    print (\"Anda bisa naik roller coster\")\n",
    "elif (tinggi>=120)&(uang<30000):\n",
    "    print (\"tinggi mencukupi\", \"uang tidak mencukupi\")\n",
    "elif (tinggi<120)&(uang>=30000):\n",
    "    print (\"tinggi tidak mencukupi\", \"uang mencukupi\")\n",
    "else :\n",
    "    print (\"Anda tidak bisa naik roller coster\")"
   ]
  },
  {
   "cell_type": "code",
   "execution_count": 25,
   "id": "d137077c-2c2c-4b0b-be2e-e10ea55987a1",
   "metadata": {},
   "outputs": [
    {
     "name": "stdout",
     "output_type": "stream",
     "text": [
      "Anda tidak bisa naik roller coster\n"
     ]
    }
   ],
   "source": [
    "tinggi = 100\n",
    "uang = 30000\n",
    "if (tinggi>=120)&(uang>=30000):\n",
    "    print (\"Anda bisa naik roller coster\")\n",
    "else :\n",
    "    print (\"Anda tidak bisa naik roller coster\")"
   ]
  },
  {
   "cell_type": "markdown",
   "id": "1c9a723f-bc14-4d7b-a9db-1de1f55816c3",
   "metadata": {},
   "source": [
    "# Iteration Loop"
   ]
  },
  {
   "cell_type": "markdown",
   "id": "9dadb67b-48a2-4509-a32d-8efa578a75ef",
   "metadata": {},
   "source": [
    "#for loop"
   ]
  },
  {
   "cell_type": "code",
   "execution_count": 27,
   "id": "f56f1d93-834a-43a8-bd22-83d1f8fc18d5",
   "metadata": {},
   "outputs": [
    {
     "name": "stdout",
     "output_type": "stream",
     "text": [
      "Honda\n",
      "Suzuki\n",
      "Yamaha\n",
      "Pulsar\n"
     ]
    }
   ],
   "source": [
    "for bebek in list_motor:\n",
    "    print(bebek)\n"
   ]
  },
  {
   "cell_type": "code",
   "execution_count": 30,
   "id": "5dd3419d-983b-4719-8a36-2725eb4e17c6",
   "metadata": {},
   "outputs": [
    {
     "name": "stdout",
     "output_type": "stream",
     "text": [
      "1\n",
      "2\n",
      "3\n",
      "4\n",
      "5\n",
      "6\n",
      "7\n",
      "8\n",
      "9\n",
      "10\n"
     ]
    }
   ],
   "source": [
    "n=0\n",
    "while(n<10):\n",
    "    n=n+1\n",
    "    print(n)\n"
   ]
  },
  {
   "cell_type": "code",
   "execution_count": 31,
   "id": "393ab2fe-d049-430a-9c1c-d34977f37a47",
   "metadata": {},
   "outputs": [
    {
     "name": "stdout",
     "output_type": "stream",
     "text": [
      "1\n",
      "2\n"
     ]
    }
   ],
   "source": [
    "n=0\n",
    "while(n<10):\n",
    "    n=n+1\n",
    "    if n==3:\n",
    "        break\n",
    "    print(n)"
   ]
  },
  {
   "cell_type": "code",
   "execution_count": 33,
   "id": "e817fe95-a2f0-4b55-bd2d-af3abde3ed48",
   "metadata": {},
   "outputs": [
    {
     "name": "stdout",
     "output_type": "stream",
     "text": [
      "1\n",
      "2\n",
      "4\n",
      "5\n",
      "6\n",
      "7\n",
      "8\n",
      "9\n",
      "10\n",
      "loop end\n"
     ]
    }
   ],
   "source": [
    "n=0\n",
    "while(n<10):\n",
    "    n=n+1\n",
    "    if n==3:\n",
    "        continue\n",
    "    print(n)\n",
    "print (\"loop end\")"
   ]
  },
  {
   "cell_type": "code",
   "execution_count": 35,
   "id": "f8d7d0ef-08f2-4db8-8ca5-c39bdf385f2a",
   "metadata": {},
   "outputs": [
    {
     "name": "stdout",
     "output_type": "stream",
     "text": [
      "anggur beli 1\n",
      "pepaya beli 1\n",
      "semangka beli 1\n",
      "melon beli 1\n",
      "jeruk beli 2\n"
     ]
    }
   ],
   "source": [
    "list_buah =[\"anggur\",\"pepaya\",\"semangka\",\"melon\",\"jeruk\"]\n",
    "for buah in list_buah:\n",
    "    if buah ==\"jeruk\":\n",
    "        print(buah, \"beli 2\")\n",
    "    else:\n",
    "        print(buah,\"beli 1\")\n",
    "        \n",
    "      \n",
    "    "
   ]
  },
  {
   "cell_type": "code",
   "execution_count": null,
   "id": "c409ff6f-d230-4910-be60-2c4a48537a45",
   "metadata": {},
   "outputs": [],
   "source": []
  }
 ],
 "metadata": {
  "kernelspec": {
   "display_name": "Python 3",
   "language": "python",
   "name": "python3"
  },
  "language_info": {
   "codemirror_mode": {
    "name": "ipython",
    "version": 3
   },
   "file_extension": ".py",
   "mimetype": "text/x-python",
   "name": "python",
   "nbconvert_exporter": "python",
   "pygments_lexer": "ipython3",
   "version": "3.8.8"
  }
 },
 "nbformat": 4,
 "nbformat_minor": 5
}
