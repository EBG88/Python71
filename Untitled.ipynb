{
 "cells": [
  {
   "cell_type": "markdown",
   "id": "ac0c4c09-ad25-4e6e-b3e9-4197872f9d2f",
   "metadata": {},
   "source": [
    "# Function"
   ]
  },
  {
   "cell_type": "code",
   "execution_count": 16,
   "id": "69da1706-6e31-43b4-8f2d-5db2e3b2256b",
   "metadata": {},
   "outputs": [
    {
     "ename": "SyntaxError",
     "evalue": "invalid syntax (<ipython-input-16-dd1c8d94c1ba>, line 13)",
     "output_type": "error",
     "traceback": [
      "\u001b[1;36m  File \u001b[1;32m\"<ipython-input-16-dd1c8d94c1ba>\"\u001b[1;36m, line \u001b[1;32m13\u001b[0m\n\u001b[1;33m    print(\"umur tidak cukup\") if (umur >= 17):\u001b[0m\n\u001b[1;37m                                             ^\u001b[0m\n\u001b[1;31mSyntaxError\u001b[0m\u001b[1;31m:\u001b[0m invalid syntax\n"
     ]
    }
   ],
   "source": [
    "def cekHargaTiket():\n",
    "    umur = 20\n",
    "    saldo = 200000\n",
    "    harga = 200000\n",
    "\n",
    "    if (umur >= 17):\n",
    "        print(\"boleh beli tiket\")\n",
    "        if (saldo >= harga):\n",
    "            print(\"bisa beli tiket\")\n",
    "        else:\n",
    "            print(\"saldo tidak cukup\")\n",
    "    else:\n",
    "        print(\"umur tidak cukup\") if (umur >= 17):\n",
    "            print(\"boleh beli tiket\")\n",
    "        if (saldo >= harga):\n",
    "            print(\"bisa beli tiket\")\n",
    "            else:\n",
    "                print(\"saldo tidak cukup\")\n",
    "        else:\n",
    "        print(\"umur tidak cukup\")\n"
   ]
  },
  {
   "cell_type": "code",
   "execution_count": 15,
   "id": "36e8683e-1ca1-42d6-842d-d4717d645020",
   "metadata": {},
   "outputs": [
    {
     "ename": "NameError",
     "evalue": "name 'cekHargaTiket' is not defined",
     "output_type": "error",
     "traceback": [
      "\u001b[1;31m---------------------------------------------------------------------------\u001b[0m",
      "\u001b[1;31mNameError\u001b[0m                                 Traceback (most recent call last)",
      "\u001b[1;32m<ipython-input-15-f03596727127>\u001b[0m in \u001b[0;36m<module>\u001b[1;34m\u001b[0m\n\u001b[1;32m----> 1\u001b[1;33m \u001b[0mcekHargaTiket\u001b[0m\u001b[1;33m(\u001b[0m\u001b[1;33m)\u001b[0m\u001b[1;33m\u001b[0m\u001b[1;33m\u001b[0m\u001b[0m\n\u001b[0m\u001b[0;32m      2\u001b[0m \u001b[0mcekHargaTiket\u001b[0m\u001b[1;33m(\u001b[0m\u001b[1;33m)\u001b[0m\u001b[1;33m\u001b[0m\u001b[1;33m\u001b[0m\u001b[0m\n",
      "\u001b[1;31mNameError\u001b[0m: name 'cekHargaTiket' is not defined"
     ]
    }
   ],
   "source": [
    "cekHargaTiket()\n",
    "cekHargaTiket()"
   ]
  },
  {
   "cell_type": "markdown",
   "id": "9422dcf2-f869-4c7f-b120-d57dac31f6b5",
   "metadata": {},
   "source": [
    "# Argumen"
   ]
  },
  {
   "cell_type": "code",
   "execution_count": 20,
   "id": "518f5561-85dd-4abb-94fc-06bdb4e223c7",
   "metadata": {},
   "outputs": [
    {
     "name": "stdout",
     "output_type": "stream",
     "text": [
      "selamat pagi Pak Ery\n"
     ]
    }
   ],
   "source": [
    "def panggilNama(panggilan,nama):\n",
    "    print (\"selamat pagi\",panggilan,nama)\n",
    "\n",
    "panggilNama(\"Pak\",\"Ery\")"
   ]
  },
  {
   "cell_type": "code",
   "execution_count": 21,
   "id": "72546998-eb4b-4c5b-b3b6-94cb469b4521",
   "metadata": {},
   "outputs": [
    {
     "name": "stdout",
     "output_type": "stream",
     "text": [
      "selamat pagi Bu Damai\n"
     ]
    }
   ],
   "source": [
    "panggilNama(\"Bu\",\"Damai\")"
   ]
  },
  {
   "cell_type": "code",
   "execution_count": 22,
   "id": "21425d3a-4b3c-43e2-bb1e-a7f7b0f33b29",
   "metadata": {},
   "outputs": [
    {
     "ename": "ModuleNotFoundError",
     "evalue": "No module named 'ery'",
     "output_type": "error",
     "traceback": [
      "\u001b[1;31m---------------------------------------------------------------------------\u001b[0m",
      "\u001b[1;31mModuleNotFoundError\u001b[0m                       Traceback (most recent call last)",
      "\u001b[1;32m<ipython-input-22-1015daa85ea6>\u001b[0m in \u001b[0;36m<module>\u001b[1;34m\u001b[0m\n\u001b[1;32m----> 1\u001b[1;33m \u001b[1;32mimport\u001b[0m \u001b[0mery\u001b[0m\u001b[1;33m\u001b[0m\u001b[1;33m\u001b[0m\u001b[0m\n\u001b[0m",
      "\u001b[1;31mModuleNotFoundError\u001b[0m: No module named 'ery'"
     ]
    }
   ],
   "source": [
    "import ery"
   ]
  },
  {
   "cell_type": "code",
   "execution_count": null,
   "id": "f92b3e46-1924-416a-aef5-5f32381b9920",
   "metadata": {},
   "outputs": [],
   "source": []
  }
 ],
 "metadata": {
  "kernelspec": {
   "display_name": "Python 3",
   "language": "python",
   "name": "python3"
  },
  "language_info": {
   "codemirror_mode": {
    "name": "ipython",
    "version": 3
   },
   "file_extension": ".py",
   "mimetype": "text/x-python",
   "name": "python",
   "nbconvert_exporter": "python",
   "pygments_lexer": "ipython3",
   "version": "3.8.8"
  }
 },
 "nbformat": 4,
 "nbformat_minor": 5
}
